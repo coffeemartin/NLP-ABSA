{
 "cells": [
  {
   "cell_type": "markdown",
   "metadata": {
    "id": "Z0bUhFZXo6Uu"
   },
   "source": [
    "# Aspect Based Sentiment Analysis (ABSA)\n",
    "2024 CITS4012 Project\n",
    "\n",
    "Franco.meng2@gmail.com\n",
    "\n",
    "May, 2024\n",
    "\n",
    "\n"
   ]
  },
  {
   "cell_type": "markdown",
   "metadata": {
    "id": "pHZpjnceXj-n"
   },
   "source": [
    "# 1.Dataset Processing"
   ]
  },
  {
   "cell_type": "markdown",
   "metadata": {
    "id": "DnBSDUZMrLSX"
   },
   "source": [
    "## 1.1 Initial Preparation\n",
    "\n",
    "Downloading Packages - Reading in data files - downloading pre trained word embeddings\n",
    "\n",
    "\n",
    "\n",
    "*   glove-twitter-25\n",
    "*   glove-twitter-50\n",
    "*   word2vec-google-news-300\n",
    "\n"
   ]
  },
  {
   "cell_type": "code",
   "execution_count": 1,
   "metadata": {
    "colab": {
     "base_uri": "https://localhost:8080/"
    },
    "id": "noxE2S-Uj6QJ",
    "outputId": "ef6e8d38-9478-4d1a-f965-5007327dfadd"
   },
   "outputs": [
    {
     "name": "stderr",
     "output_type": "stream",
     "text": [
      "[nltk_data] Downloading package punkt to /root/nltk_data...\n",
      "[nltk_data]   Unzipping tokenizers/punkt.zip.\n"
     ]
    }
   ],
   "source": [
    "from google.colab import files\n",
    "import json\n",
    "import torch\n",
    "import torch.nn as nn\n",
    "import torch.optim as optim\n",
    "from torch.utils.data import Dataset, DataLoader\n",
    "from torch.nn.utils.rnn import pad_sequence\n",
    "import os\n",
    "import re\n",
    "import nltk\n",
    "nltk.download('punkt')\n",
    "from nltk.tokenize import word_tokenize\n",
    "import numpy as np\n",
    "from torch.utils.data import TensorDataset\n",
    "from sklearn.metrics import accuracy_score\n",
    "from sklearn.metrics import f1_score\n",
    "import seaborn as sns\n",
    "import matplotlib.pyplot as plt\n",
    "import pandas as pd\n",
    "from sklearn.metrics import accuracy_score\n",
    "import torch.nn.functional as F\n",
    "from sklearn.metrics import classification_report\n",
    "\n",
    "# uploaded = files.upload()\n",
    "# filename = next(iter(uploaded))\n",
    "# with open(filename) as file:\n",
    "#     data = json.load(file)"
   ]
  },
  {
   "cell_type": "code",
   "execution_count": 2,
   "metadata": {
    "id": "JrOBrR1XdasB"
   },
   "outputs": [],
   "source": [
    "device = torch.device(\"cuda\" if torch.cuda.is_available() else \"cpu\")"
   ]
  },
  {
   "cell_type": "code",
   "execution_count": 3,
   "metadata": {
    "id": "zwD91NRFmyDG"
   },
   "outputs": [],
   "source": [
    "with open(\"/content/train.json\") as file:\n",
    "    train_data = json.load(file)[\"data\"]\n",
    "\n",
    "with open(\"/content/val.json\") as file:\n",
    "    val_data = json.load(file)[\"data\"]\n",
    "\n",
    "with open(\"/content/test.json\") as file:\n",
    "    test_data = json.load(file)[\"data\"]"
   ]
  },
  {
   "cell_type": "markdown",
   "metadata": {
    "id": "1XJ7HAlarYSV"
   },
   "source": [
    "Reading in training / validation / testing files"
   ]
  },
  {
   "cell_type": "code",
   "execution_count": 4,
   "metadata": {
    "id": "sZnvQT3PsmIR"
   },
   "outputs": [],
   "source": [
    "t_sentence = [a for a,_,_ in train_data]\n",
    "t_aspect = [b for _,b,_ in train_data]\n",
    "t_polarity = [c for _,_,c in train_data]"
   ]
  },
  {
   "cell_type": "code",
   "execution_count": 5,
   "metadata": {
    "id": "tkjHpoo4AqF6"
   },
   "outputs": [],
   "source": [
    "v_sentence = [a for a,_,_ in val_data]\n",
    "v_aspect = [b for _,b,_ in val_data]\n",
    "v_polarity = [c for _,_,c in val_data]"
   ]
  },
  {
   "cell_type": "code",
   "execution_count": 6,
   "metadata": {
    "id": "QERo2Z81klxy"
   },
   "outputs": [],
   "source": [
    "test_sentence = [a for a,_,_ in test_data]\n",
    "test_aspect = [b for _,b,_ in test_data]\n",
    "test_polarity = [c for _,_,c in test_data]"
   ]
  },
  {
   "cell_type": "code",
   "execution_count": 7,
   "metadata": {
    "colab": {
     "base_uri": "https://localhost:8080/"
    },
    "id": "2EFINzYpsmj1",
    "outputId": "824e9711-1429-4056-8153-3a17a3ecfb99"
   },
   "outputs": [
    {
     "name": "stdout",
     "output_type": "stream",
     "text": [
      "[==================================================] 100.0% 104.8/104.8MB downloaded\n",
      "[==================================================] 100.0% 199.5/199.5MB downloaded\n",
      "[==================================================] 100.0% 1662.8/1662.8MB downloaded\n"
     ]
    }
   ],
   "source": [
    "import gensim.downloader as api\n",
    "word_emb_model1 = api.load(\"glove-twitter-25\")\n",
    "word_emb_model2 = api.load(\"glove-twitter-50\")\n",
    "word_emb_model3 = api.load(\"word2vec-google-news-300\")"
   ]
  },
  {
   "cell_type": "markdown",
   "metadata": {
    "id": "6BYmLffDr-3_"
   },
   "source": [
    "## 1.2 Word processing\n",
    "\n",
    "*  case folding\n",
    "*  contraction processing\n",
    "*  remove punctruation\n",
    "*  tokenization"
   ]
  },
  {
   "cell_type": "code",
   "execution_count": 8,
   "metadata": {
    "id": "kzKYHFrzxa2K"
   },
   "outputs": [],
   "source": [
    "contraction_dict = {\"ain't\": \"is not\", \"aren't\": \"are not\",\"can't\": \"cannot\", \"'cause\": \"because\", \"could've\": \"could have\",\n",
    "                    \"couldn't\": \"could not\", \"didn't\": \"did not\",  \"doesn't\": \"does not\", \"don't\": \"do not\", \"hadn't\": \"had not\",\n",
    "                    \"hasn't\": \"has not\", \"haven't\": \"have not\", \"he'd\": \"he would\",\"he'll\": \"he will\", \"he's\": \"he is\", \"how'd\": \"how did\",\n",
    "                    \"how'd'y\": \"how do you\", \"how'll\": \"how will\", \"how's\": \"how is\",  \"I'd\": \"I would\", \"I'd've\": \"I would have\",\n",
    "                    \"I'll\": \"I will\", \"I'll've\": \"I will have\",\"I'm\": \"I am\", \"I've\": \"I have\", \"i'd\": \"i would\", \"i'd've\": \"i would have\",\n",
    "                    \"i'll\": \"i will\",  \"i'll've\": \"i will have\",\"i'm\": \"i am\", \"i've\": \"i have\", \"isn't\": \"is not\", \"it'd\": \"it would\",\n",
    "                    \"it'd've\": \"it would have\", \"it'll\": \"it will\", \"it'll've\": \"it will have\",\"it's\": \"it is\", \"let's\": \"let us\",\n",
    "                    \"ma'am\": \"madam\", \"mayn't\": \"may not\", \"might've\": \"might have\",\"mightn't\": \"might not\",\"mightn't've\": \"might not have\",\n",
    "                    \"must've\": \"must have\", \"mustn't\": \"must not\", \"mustn't've\": \"must not have\", \"needn't\": \"need not\", \"needn't've\": \"need not have\",\n",
    "                    \"o'clock\": \"of the clock\", \"oughtn't\": \"ought not\", \"oughtn't've\": \"ought not have\", \"shan't\": \"shall not\", \"sha'n't\": \"shall not\",\n",
    "                    \"shan't've\": \"shall not have\", \"she'd\": \"she would\", \"she'd've\": \"she would have\", \"she'll\": \"she will\", \"she'll've\": \"she will have\",\n",
    "                    \"she's\": \"she is\", \"should've\": \"should have\", \"shouldn't\": \"should not\", \"shouldn't've\": \"should not have\", \"so've\": \"so have\",\n",
    "                    \"so's\": \"so as\", \"this's\": \"this is\",\"that'd\": \"that would\", \"that'd've\": \"that would have\", \"that's\": \"that is\", \"there'd\": \"there would\",\n",
    "                    \"there'd've\": \"there would have\", \"there's\": \"there is\", \"here's\": \"here is\",\"they'd\": \"they would\", \"they'd've\": \"they would have\",\n",
    "                    \"they'll\": \"they will\", \"they'll've\": \"they will have\", \"they're\": \"they are\", \"they've\": \"they have\", \"to've\": \"to have\", \"wasn't\": \"was not\",\n",
    "                    \"we'd\": \"we would\", \"we'd've\": \"we would have\", \"we'll\": \"we will\", \"we'll've\": \"we will have\", \"we're\": \"we are\", \"we've\": \"we have\",\n",
    "                    \"weren't\": \"were not\", \"what'll\": \"what will\", \"what'll've\": \"what will have\", \"what're\": \"what are\",  \"what's\": \"what is\", \"what've\": \"what have\",\n",
    "                    \"when's\": \"when is\", \"when've\": \"when have\", \"where'd\": \"where did\", \"where's\": \"where is\", \"where've\": \"where have\", \"who'll\": \"who will\",\n",
    "                    \"who'll've\": \"who will have\", \"who's\": \"who is\", \"who've\": \"who have\", \"why's\": \"why is\", \"why've\": \"why have\", \"will've\": \"will have\",\n",
    "                    \"won't\": \"will not\", \"won't've\": \"will not have\", \"would've\": \"would have\", \"wouldn't\": \"would not\", \"wouldn't've\": \"would not have\",\n",
    "                    \"y'all\": \"you all\", \"y'all'd\": \"you all would\",\"y'all'd've\": \"you all would have\",\"y'all're\": \"you all are\",\"y'all've\": \"you all have\",\n",
    "                    \"you'd\": \"you would\", \"you'd've\": \"you would have\", \"you'll\": \"you will\", \"you'll've\": \"you will have\", \"you're\": \"you are\", \"you've\": \"you have\"}"
   ]
  },
  {
   "cell_type": "code",
   "execution_count": 9,
   "metadata": {
    "id": "ZxuPWMCzwIvm"
   },
   "outputs": [],
   "source": [
    "def pre_process(sent_list):\n",
    "    output = []\n",
    "    for sent in sent_list:\n",
    "        sent = sent.lower() #case-folding\n",
    "        for word, new_word in contraction_dict.items():\n",
    "            sent = sent.replace(word, new_word) #dealing with contractions\n",
    "        sent = re.sub(r'[^\\w\\s]','',sent) #removing punctuation\n",
    "        output.append(word_tokenize(sent)) #tokenization\n",
    "    return output"
   ]
  },
  {
   "cell_type": "code",
   "execution_count": 10,
   "metadata": {
    "id": "TngIBg6iwIsm"
   },
   "outputs": [],
   "source": [
    "t_sentence_1 = pre_process(t_sentence)\n",
    "v_sentence_1 = pre_process(v_sentence)\n",
    "test_sentence_1 = pre_process(test_sentence)"
   ]
  },
  {
   "cell_type": "markdown",
   "metadata": {
    "id": "EGGRgxqusXie"
   },
   "source": [
    "## 1.3 Creating word2idx dictionary for word embeddings.\n",
    "\n",
    "\n",
    "\n",
    "Using all the words in the training + validations, along with words for asepcts.\n",
    "\n",
    "As some aspects words like ' miscellaneous ' may never occure in the sentences of the review, I feel it is a bit arbitary to use OOV for these aspect key words.\n",
    "Therefore in the dictionary 2-9, will be the aspects words."
   ]
  },
  {
   "cell_type": "code",
   "execution_count": 11,
   "metadata": {
    "id": "pgATmxjDAfY8"
   },
   "outputs": [],
   "source": [
    "word2idx = {'<PAD>': 0, '<OOV>': 1, 'ambience' : 2, 'food': 3, 'menu' :4, 'miscellaneous':5, 'place':6, 'price':7, 'service' : 8, 'staff':9}\n",
    "for sentence in t_sentence_1 + v_sentence_1 :\n",
    "    for word in sentence:\n",
    "        if word not in word2idx:\n",
    "            word2idx[word] = len(word2idx)"
   ]
  },
  {
   "cell_type": "markdown",
   "metadata": {
    "id": "J1Ckn0ogtR-1"
   },
   "source": [
    "*  Concatanating glove-twitter-25 and glove-twitter-50 for my first word embedding option"
   ]
  },
  {
   "cell_type": "markdown",
   "metadata": {
    "id": "cVKVIArBRJsa"
   },
   "source": [
    "* Note : Please use the second option for all the models, as the word2vec-google-news-300 shows strong improvement. Here just illustrate what have been experimented."
   ]
  },
  {
   "cell_type": "code",
   "execution_count": 12,
   "metadata": {
    "id": "Q3iZS3ykwInP"
   },
   "outputs": [],
   "source": [
    "emb_dim = word_emb_model1.vector_size + word_emb_model2.vector_size"
   ]
  },
  {
   "cell_type": "code",
   "execution_count": 13,
   "metadata": {
    "id": "IFxQAdBWwIkw"
   },
   "outputs": [],
   "source": [
    "emb_table = []\n",
    "for i, word in enumerate(word2idx):\n",
    "    if word in word_emb_model1:\n",
    "        emb_table.append(np.concatenate((word_emb_model1[word],word_emb_model2[word]),0)) #FM 0 HERE means concatenate two arrays on dimention of 0 ,\n",
    "    else:\n",
    "        emb_table.append([0]*emb_dim)\n",
    "emb_table = np.array(emb_table)"
   ]
  },
  {
   "cell_type": "markdown",
   "metadata": {
    "id": "9XAB4UOQ9rLM"
   },
   "source": [
    "*  Using word2vec-google-news-300, 300 dimention word representation for my second word embedding options."
   ]
  },
  {
   "cell_type": "code",
   "execution_count": 12,
   "metadata": {
    "id": "aqiq7g67wIp7"
   },
   "outputs": [],
   "source": [
    "emb_dim = word_emb_model3.vector_size\n",
    "emb_dim\n",
    "emb_table = []\n",
    "for i, word in enumerate(word2idx):\n",
    "    if word in word_emb_model3:\n",
    "        emb_table.append(word_emb_model3[word])\n",
    "    else:\n",
    "        emb_table.append([0]*emb_dim)\n",
    "emb_table = np.array(emb_table)"
   ]
  },
  {
   "cell_type": "markdown",
   "metadata": {
    "id": "obdRTArEtm0k"
   },
   "source": [
    "*  Creating a idx2word dictionary for easier convering number back to words."
   ]
  },
  {
   "cell_type": "code",
   "execution_count": 13,
   "metadata": {
    "id": "qudQnuG3Mdq_"
   },
   "outputs": [],
   "source": [
    "idx2word =  {i: t for t, i in word2idx.items()}"
   ]
  },
  {
   "cell_type": "code",
   "execution_count": 14,
   "metadata": {
    "colab": {
     "base_uri": "https://localhost:8080/"
    },
    "id": "Q2NdttBkwIZp",
    "outputId": "bc01d15b-4fe3-4bb8-8084-8fe05eee5c0d"
   },
   "outputs": [
    {
     "data": {
      "text/plain": [
       "{0: '<PAD>',\n",
       " 1: '<OOV>',\n",
       " 2: 'ambience',\n",
       " 3: 'food',\n",
       " 4: 'menu',\n",
       " 5: 'miscellaneous',\n",
       " 6: 'place',\n",
       " 7: 'price',\n",
       " 8: 'service',\n",
       " 9: 'staff'}"
      ]
     },
     "execution_count": 14,
     "metadata": {},
     "output_type": "execute_result"
    }
   ],
   "source": [
    "{k: idx2word[k] for k in sorted(idx2word.keys())[:10]}"
   ]
  },
  {
   "cell_type": "markdown",
   "metadata": {
    "id": "IxNgVukDtu-X"
   },
   "source": [
    "## 1.3 sentence encoding.\n",
    "\n",
    "Here I encode the sentence, converting all the words in the sentence, by using the word2idx dictionary just created above, in to interger format.\n",
    "\n",
    "e.g. \"I like pasta\" --> \"3,5,6\""
   ]
  },
  {
   "cell_type": "code",
   "execution_count": 15,
   "metadata": {
    "id": "NTGHrC82U9qt"
   },
   "outputs": [],
   "source": [
    "def encode_sentences(sentences):\n",
    "    res = []\n",
    "    for sent in sentences:\n",
    "        # For any word that is not in our word vocab, use [OOV] for representating it\n",
    "        temp = [word2idx[word.lower()] if word.lower() in word2idx else word2idx['<OOV>'] for word in sent]\n",
    "        res.append(temp)\n",
    "    return res"
   ]
  },
  {
   "cell_type": "markdown",
   "metadata": {
    "id": "hqAMhJOKuOgg"
   },
   "source": [
    "I've decided to combine training + validation into a bigger training set to increase the volcabulary for better model training."
   ]
  },
  {
   "cell_type": "code",
   "execution_count": 16,
   "metadata": {
    "id": "ojFjDuh6U9iT"
   },
   "outputs": [],
   "source": [
    "t_combine_sentence_encoded = encode_sentences(t_sentence_1+v_sentence_1 )\n",
    "test_encoded = encode_sentences(test_sentence_1)"
   ]
  },
  {
   "cell_type": "markdown",
   "metadata": {
    "id": "Xns4CkR2_pEb"
   },
   "source": [
    "## 1.4 data exploratory analysis , and sentence padding.\n",
    "\n",
    "In order to use batch processing, usually the sentence will be padded to the same length.\n",
    "\n",
    "\n",
    "\n",
    "\n",
    "1.   Data Exploration : investigating distribution of sentence length, aspects and polarity.\n",
    "* Usually the padded length = max (sentence length), however I do not wish to pad all the sentence to the max length if there are outliers, where only 1 or 2 sentences are super long in my training set.\n",
    "2.   Creating a function to pad sentences.\n",
    "\n",
    "\n"
   ]
  },
  {
   "cell_type": "code",
   "execution_count": 17,
   "metadata": {
    "colab": {
     "base_uri": "https://localhost:8080/",
     "height": 307
    },
    "id": "IxJikg7YhchM",
    "outputId": "fb7827a0-ab96-4524-a257-082b9eacac0c"
   },
   "outputs": [
    {
     "data": {
      "image/png": "[encoded data removed]",
      "text/plain": [
       "<Figure size 673.375x300 with 1 Axes>"
      ]
     },
     "metadata": {},
     "output_type": "display_data"
    }
   ],
   "source": [
    "lenlist = []\n",
    "for i in t_combine_sentence_encoded:\n",
    "    lenlist.append(len(i))\n",
    "label_list = t_polarity + v_polarity\n",
    "my_palette = sns.color_palette([\"#C52E19\", \"#AC9765\", \"#175149\"])\n",
    "df_plot = pd.DataFrame(list(zip(lenlist, label_list)),\n",
    "               columns =['sentence length', 'polarity'])\n",
    "sns.displot(df_plot,x=\"sentence length\", bins = 15,hue=\"polarity\", multiple=\"dodge\",palette = my_palette,height=3, aspect=15/8)\n",
    "plt.title(\"Sentence length distribution in training and validation dataset\",fontsize = 10)\n",
    "plt.tight_layout()\n",
    "plt.savefig(\"Fig_sentence_length.png\")"
   ]
  },
  {
   "cell_type": "code",
   "execution_count": null,
   "metadata": {
    "id": "Z4TVxppHLE_J"
   },
   "outputs": [],
   "source": [
    "from collections import Counter\n",
    "Counter(label_list)\n",
    "len(label_list)"
   ]
  },
  {
   "cell_type": "code",
   "execution_count": 220,
   "metadata": {
    "colab": {
     "base_uri": "https://localhost:8080/",
     "height": 17
    },
    "id": "EfhxXog8C3JY",
    "outputId": "a9e0d8f9-63da-4275-d379-a48642a3fc45"
   },
   "outputs": [
    {
     "data": {
      "application/javascript": [
       "\n",
       "    async function download(id, filename, size) {\n",
       "      if (!google.colab.kernel.accessAllowed) {\n",
       "        return;\n",
       "      }\n",
       "      const div = document.createElement('div');\n",
       "      const label = document.createElement('label');\n",
       "      label.textContent = `Downloading \"${filename}\": `;\n",
       "      div.appendChild(label);\n",
       "      const progress = document.createElement('progress');\n",
       "      progress.max = size;\n",
       "      div.appendChild(progress);\n",
       "      document.body.appendChild(div);\n",
       "\n",
       "      const buffers = [];\n",
       "      let downloaded = 0;\n",
       "\n",
       "      const channel = await google.colab.kernel.comms.open(id);\n",
       "      // Send a message to notify the kernel that we're ready.\n",
       "      channel.send({})\n",
       "\n",
       "      for await (const message of channel.messages) {\n",
       "        // Send a message to notify the kernel that we're ready.\n",
       "        channel.send({})\n",
       "        if (message.buffers) {\n",
       "          for (const buffer of message.buffers) {\n",
       "            buffers.push(buffer);\n",
       "            downloaded += buffer.byteLength;\n",
       "            progress.value = downloaded;\n",
       "          }\n",
       "        }\n",
       "      }\n",
       "      const blob = new Blob(buffers, {type: 'application/binary'});\n",
       "      const a = document.createElement('a');\n",
       "      a.href = window.URL.createObjectURL(blob);\n",
       "      a.download = filename;\n",
       "      div.appendChild(a);\n",
       "      a.click();\n",
       "      div.remove();\n",
       "    }\n",
       "  "
      ],
      "text/plain": [
       "<IPython.core.display.Javascript object>"
      ]
     },
     "metadata": {},
     "output_type": "display_data"
    },
    {
     "data": {
      "application/javascript": [
       "download(\"download_9c2913b6-8d5b-4d89-a60b-dc14a3ca4f2b\", \"Fig_sentence_length.png\", 23118)"
      ],
      "text/plain": [
       "<IPython.core.display.Javascript object>"
      ]
     },
     "metadata": {},
     "output_type": "display_data"
    }
   ],
   "source": [
    "files.download('Fig_sentence_length.png')"
   ]
  },
  {
   "cell_type": "code",
   "execution_count": 18,
   "metadata": {
    "colab": {
     "base_uri": "https://localhost:8080/",
     "height": 307
    },
    "id": "KAwz0-6BQaLe",
    "outputId": "c29bce1d-7c79-405c-dc5a-31aa5d191f76"
   },
   "outputs": [
    {
     "data": {
      "image/png": "[encoded data removed]",
      "text/plain": [
       "<Figure size 673.375x300 with 1 Axes>"
      ]
     },
     "metadata": {},
     "output_type": "display_data"
    }
   ],
   "source": [
    "df_plot_aspect = pd.DataFrame(list(zip(t_aspect + v_aspect, t_polarity + v_polarity)),\n",
    "               columns =['aspect', 'polarity'])\n",
    "g1 = sns.displot(df_plot_aspect,x=\"aspect\", hue=\"polarity\", multiple=\"dodge\", palette = my_palette,height=3, aspect=15/8, shrink=.8)\n",
    "plt.xticks(rotation=0, size = 7)\n",
    "plt.title(\"Aspects, polarity distribution in training and validation dataset\",fontsize = 10)\n",
    "plt.tight_layout()\n",
    "plt.savefig(\"Fig_aspect.png\")"
   ]
  },
  {
   "cell_type": "code",
   "execution_count": 222,
   "metadata": {
    "colab": {
     "base_uri": "https://localhost:8080/",
     "height": 17
    },
    "id": "KkzxmVtYDFDT",
    "outputId": "89b93d59-5041-45aa-9dfc-cb789033584d"
   },
   "outputs": [
    {
     "data": {
      "application/javascript": [
       "\n",
       "    async function download(id, filename, size) {\n",
       "      if (!google.colab.kernel.accessAllowed) {\n",
       "        return;\n",
       "      }\n",
       "      const div = document.createElement('div');\n",
       "      const label = document.createElement('label');\n",
       "      label.textContent = `Downloading \"${filename}\": `;\n",
       "      div.appendChild(label);\n",
       "      const progress = document.createElement('progress');\n",
       "      progress.max = size;\n",
       "      div.appendChild(progress);\n",
       "      document.body.appendChild(div);\n",
       "\n",
       "      const buffers = [];\n",
       "      let downloaded = 0;\n",
       "\n",
       "      const channel = await google.colab.kernel.comms.open(id);\n",
       "      // Send a message to notify the kernel that we're ready.\n",
       "      channel.send({})\n",
       "\n",
       "      for await (const message of channel.messages) {\n",
       "        // Send a message to notify the kernel that we're ready.\n",
       "        channel.send({})\n",
       "        if (message.buffers) {\n",
       "          for (const buffer of message.buffers) {\n",
       "            buffers.push(buffer);\n",
       "            downloaded += buffer.byteLength;\n",
       "            progress.value = downloaded;\n",
       "          }\n",
       "        }\n",
       "      }\n",
       "      const blob = new Blob(buffers, {type: 'application/binary'});\n",
       "      const a = document.createElement('a');\n",
       "      a.href = window.URL.createObjectURL(blob);\n",
       "      a.download = filename;\n",
       "      div.appendChild(a);\n",
       "      a.click();\n",
       "      div.remove();\n",
       "    }\n",
       "  "
      ],
      "text/plain": [
       "<IPython.core.display.Javascript object>"
      ]
     },
     "metadata": {},
     "output_type": "display_data"
    },
    {
     "data": {
      "application/javascript": [
       "download(\"download_b3660032-18b7-4ebd-a039-b13978a21081\", \"Fig_aspect.png\", 24111)"
      ],
      "text/plain": [
       "<IPython.core.display.Javascript object>"
      ]
     },
     "metadata": {},
     "output_type": "display_data"
    }
   ],
   "source": [
    "files.download('Fig_aspect.png')"
   ]
  },
  {
   "cell_type": "markdown",
   "metadata": {
    "id": "Bq3QdkRNC-4N"
   },
   "source": [
    "As expected, very few instances with sentence length over 60. I don't believe it is a good idea to PAD all sentence to max length of 67."
   ]
  },
  {
   "cell_type": "code",
   "execution_count": 19,
   "metadata": {
    "colab": {
     "base_uri": "https://localhost:8080/"
    },
    "id": "dluBDwFwV-SF",
    "outputId": "2e0fa8b1-baa1-49f0-cb52-2898d1a1a5a7"
   },
   "outputs": [
    {
     "name": "stdout",
     "output_type": "stream",
     "text": [
      "67\n"
     ]
    }
   ],
   "source": [
    "max_length = len(max(t_combine_sentence_encoded, key=len))\n",
    "print(max_length)"
   ]
  },
  {
   "cell_type": "code",
   "execution_count": 19,
   "metadata": {
    "id": "R7LDfsRlruD7"
   },
   "outputs": [],
   "source": [
    "max_length = 45 #decision of padded length after different experiments"
   ]
  },
  {
   "cell_type": "code",
   "execution_count": 22,
   "metadata": {
    "id": "zr_PmCzlWSUJ"
   },
   "outputs": [],
   "source": [
    "def pad_sequence(seq_list, max_length, index_dict):\n",
    "    res = []\n",
    "    for seq in seq_list:\n",
    "        temp = seq[:]\n",
    "        if len(seq)>max_length:\n",
    "            res.append(temp[:max_length])\n",
    "        else:\n",
    "            temp += [index_dict['<PAD>']] * (max_length - len(seq))\n",
    "            res.append(temp)\n",
    "    return np.array(res)"
   ]
  },
  {
   "cell_type": "code",
   "execution_count": 21,
   "metadata": {
    "id": "-T7AwXPsWSKZ"
   },
   "outputs": [],
   "source": [
    "t_combine_sentence_encoded_pad = pad_sequence(t_combine_sentence_encoded, max_length, word2idx)\n",
    "test_encoded_paded = pad_sequence(test_encoded, max_length, word2idx)"
   ]
  },
  {
   "cell_type": "markdown",
   "metadata": {
    "id": "UlNtRVr2vkr2"
   },
   "source": [
    "Creating a polarity map, converting aspect to interger representations."
   ]
  },
  {
   "cell_type": "code",
   "execution_count": 23,
   "metadata": {
    "id": "FxGEJQ3ISvc5"
   },
   "outputs": [],
   "source": [
    "label_map = {\"positive\": 0, \"negative\": 1, \"neutral\": 2}\n",
    "polarity = [\"positive\", \"negative\", \"neutral\"]\n",
    "label_combine =np.array([ label_map[i] for i in t_polarity + v_polarity]) #training label\n",
    "test_label = np.array([ label_map[i] for i in test_polarity]) #testing label"
   ]
  },
  {
   "cell_type": "code",
   "execution_count": 24,
   "metadata": {
    "id": "vdXCVpUqPhW0"
   },
   "outputs": [],
   "source": [
    "aspect_combine = np.array([ [word2idx[i]] for i in t_aspect + v_aspect])"
   ]
  },
  {
   "cell_type": "code",
   "execution_count": 25,
   "metadata": {
    "id": "1CtMTvcWPgyL"
   },
   "outputs": [],
   "source": [
    "test_aspect = np.array([ [word2idx[i]] for i in test_aspect])"
   ]
  },
  {
   "cell_type": "code",
   "execution_count": 26,
   "metadata": {
    "colab": {
     "base_uri": "https://localhost:8080/"
    },
    "id": "Rks1HdiNadfO",
    "outputId": "83e201c4-1f36-4176-bb11-3f439b2c467a"
   },
   "outputs": [
    {
     "data": {
      "text/plain": [
       "7978"
      ]
     },
     "execution_count": 26,
     "metadata": {},
     "output_type": "execute_result"
    }
   ],
   "source": [
    "len(t_combine_sentence_encoded_pad) #checking how many instances for training"
   ]
  },
  {
   "cell_type": "code",
   "execution_count": 27,
   "metadata": {
    "colab": {
     "base_uri": "https://localhost:8080/"
    },
    "id": "CXZB6MLmlwu6",
    "outputId": "f4aba4c6-65da-4688-dfa8-8baa0bc0e621"
   },
   "outputs": [
    {
     "data": {
      "text/plain": [
       "901"
      ]
     },
     "execution_count": 27,
     "metadata": {},
     "output_type": "execute_result"
    }
   ],
   "source": [
    "len(test_encoded_paded) #checking how many instances for testing"
   ]
  },
  {
   "cell_type": "markdown",
   "metadata": {
    "id": "d5F_gyltGelQ"
   },
   "source": [
    "## 1.5 word embedding for sentences and aspects"
   ]
  },
  {
   "cell_type": "code",
   "execution_count": 28,
   "metadata": {
    "id": "hNydMrxsR3Ub"
   },
   "outputs": [],
   "source": [
    "pre_trained_embedding = nn.Embedding.from_pretrained(torch.from_numpy(emb_table).float())"
   ]
  },
  {
   "cell_type": "code",
   "execution_count": 29,
   "metadata": {
    "id": "evqNK9PqSu_t"
   },
   "outputs": [],
   "source": [
    "sentence_embeddings = pre_trained_embedding(torch.from_numpy(t_combine_sentence_encoded_pad).long())"
   ]
  },
  {
   "cell_type": "code",
   "execution_count": 30,
   "metadata": {
    "id": "mROyWnK-TVaU"
   },
   "outputs": [],
   "source": [
    "aspect_embeddings = pre_trained_embedding(torch.from_numpy(aspect_combine).long())"
   ]
  },
  {
   "cell_type": "markdown",
   "metadata": {
    "id": "XU_Vo10AGt1c"
   },
   "source": [
    "## 1.6 Aspect Embedding (3 options) :\n",
    "\n",
    "\n",
    "\n",
    "1.   Concanate aspect as the last word in the sentence embedding.  (word embedding dimension remain the same)\n",
    "2.   Concanate aspect embedding into each word of the sentence. (word embedding dimension will be doubled)\n",
    "3.   Use attention to inject asepct into sentence embedding.\n",
    "\n",
    "\n",
    "\n",
    "* option 1 and 2 coded below, option 3 will be coded in model itself with attention mechanism.\n"
   ]
  },
  {
   "cell_type": "markdown",
   "metadata": {
    "id": "cQwTOD4zFXVl"
   },
   "source": [
    "Option 1."
   ]
  },
  {
   "cell_type": "code",
   "execution_count": 31,
   "metadata": {
    "id": "Zad32qQ8Th_a"
   },
   "outputs": [],
   "source": [
    "sen_aspect_embeddings = torch.cat((sentence_embeddings, aspect_embeddings), dim=1)"
   ]
  },
  {
   "cell_type": "code",
   "execution_count": 32,
   "metadata": {
    "id": "u8DdD-iBiO8t"
   },
   "outputs": [],
   "source": [
    "sen_aspect_embeddings_np = sen_aspect_embeddings.cpu().detach().numpy()"
   ]
  },
  {
   "cell_type": "code",
   "execution_count": 33,
   "metadata": {
    "id": "OLyYFIvbIz0w"
   },
   "outputs": [],
   "source": [
    "test_embeddings = pre_trained_embedding(torch.from_numpy(test_encoded_paded).long())\n",
    "test_asepct_embeddings = pre_trained_embedding(torch.from_numpy(test_aspect).long())\n",
    "test_asepect_embeddings = torch.cat((test_embeddings, test_asepct_embeddings), dim=1)\n",
    "test_aspect_embeddings_np = test_asepect_embeddings.cpu().detach().numpy()"
   ]
  },
  {
   "cell_type": "code",
   "execution_count": 34,
   "metadata": {
    "colab": {
     "base_uri": "https://localhost:8080/"
    },
    "id": "-I_327JyJBh2",
    "outputId": "473e10a2-d6f5-412e-8232-fe0d135c6b99"
   },
   "outputs": [
    {
     "data": {
      "text/plain": [
       "torch.Size([7978, 46, 300])"
      ]
     },
     "execution_count": 34,
     "metadata": {},
     "output_type": "execute_result"
    }
   ],
   "source": [
    "sen_aspect_embeddings.size()"
   ]
  },
  {
   "cell_type": "code",
   "execution_count": 35,
   "metadata": {
    "colab": {
     "base_uri": "https://localhost:8080/"
    },
    "id": "Viuwk7xrJDne",
    "outputId": "70f59d3a-fb10-4b68-9108-df8094af3db3"
   },
   "outputs": [
    {
     "data": {
      "text/plain": [
       "torch.Size([901, 46, 300])"
      ]
     },
     "execution_count": 35,
     "metadata": {},
     "output_type": "execute_result"
    }
   ],
   "source": [
    "test_asepect_embeddings.size()"
   ]
  },
  {
   "cell_type": "markdown",
   "metadata": {
    "id": "xgZuScsNG8p_"
   },
   "source": [
    "Option 2."
   ]
  },
  {
   "cell_type": "code",
   "execution_count": 36,
   "metadata": {
    "id": "qluHgwjhfLp2"
   },
   "outputs": [],
   "source": [
    "aspect_embedded_expanded =  aspect_embeddings.repeat(1, sentence_embeddings.size(1), 1) #replicate aspect to the padded sentence length, in order to concat aspect embedding to every word in input sentence."
   ]
  },
  {
   "cell_type": "code",
   "execution_count": 37,
   "metadata": {
    "id": "M769ARBchtSh"
   },
   "outputs": [],
   "source": [
    "sen_aspect_embeddings_2 = torch.cat((sentence_embeddings, aspect_embedded_expanded), dim=2)"
   ]
  },
  {
   "cell_type": "code",
   "execution_count": 38,
   "metadata": {
    "id": "vhWDki22JJYY"
   },
   "outputs": [],
   "source": [
    "sen_aspect_embeddings_np_2 = sen_aspect_embeddings_2.cpu().detach().numpy()"
   ]
  },
  {
   "cell_type": "code",
   "execution_count": 39,
   "metadata": {
    "id": "F3AbkjkqIr_-"
   },
   "outputs": [],
   "source": [
    "test_embeddings = pre_trained_embedding(torch.from_numpy(test_encoded_paded).long())\n",
    "test_asepct_embeddings = pre_trained_embedding(torch.from_numpy(test_aspect).long())\n",
    "aspect_embedded_expanded =  test_asepct_embeddings.repeat(1, test_embeddings.size(1), 1)\n",
    "test_asepect_embeddings_2 = torch.cat((test_embeddings, aspect_embedded_expanded), dim=2)\n",
    "test_aspect_embeddings_np_2 = test_asepect_embeddings_2.cpu().detach().numpy()"
   ]
  },
  {
   "cell_type": "code",
   "execution_count": 40,
   "metadata": {
    "colab": {
     "base_uri": "https://localhost:8080/"
    },
    "id": "gllQr1JYiBad",
    "outputId": "4df837f9-4f14-49c1-840a-f0f2e098edf7"
   },
   "outputs": [
    {
     "data": {
      "text/plain": [
       "torch.Size([7978, 45, 600])"
      ]
     },
     "execution_count": 40,
     "metadata": {},
     "output_type": "execute_result"
    }
   ],
   "source": [
    "sen_aspect_embeddings_2.size()"
   ]
  },
  {
   "cell_type": "code",
   "execution_count": 41,
   "metadata": {
    "colab": {
     "base_uri": "https://localhost:8080/"
    },
    "id": "uC0yknFfToll",
    "outputId": "b39dd22c-d773-44da-a5ed-d7e14cf5a81b"
   },
   "outputs": [
    {
     "data": {
      "text/plain": [
       "torch.Size([901, 45, 600])"
      ]
     },
     "execution_count": 41,
     "metadata": {},
     "output_type": "execute_result"
    }
   ],
   "source": [
    "test_asepect_embeddings_2.size()"
   ]
  },
  {
   "cell_type": "markdown",
   "metadata": {
    "id": "pP3yLLO4pH-n"
   },
   "source": [
    "# 2.Model Implementation\n"
   ]
  },
  {
   "cell_type": "markdown",
   "metadata": {
    "id": "pZlfUbX9JYK1"
   },
   "source": [
    "## 2.1 RNN Models\n",
    "\n",
    "2 variants with different ways of aspect embedding\n",
    "\n",
    "(different embedding prepared in section 1.6, option 1 and 2)"
   ]
  },
  {
   "cell_type": "markdown",
   "metadata": {
    "id": "MBQDCgE4Kl72"
   },
   "source": [
    "* Model (RNN - Bidirectional):\n",
    "\n",
    "* ** n_input is required when declare model instance, which is the dimension of the word embedding."
   ]
  },
  {
   "cell_type": "code",
   "execution_count": 42,
   "metadata": {
    "id": "iCHcftWOQaEM"
   },
   "outputs": [],
   "source": [
    "class Bi_RNN_Model(nn.Module):\n",
    "    def __init__(self,n_input):\n",
    "        super(Bi_RNN_Model, self).__init__()\n",
    "        # set the bidirectional to True\n",
    "        self.rnn = nn.RNN(n_input, n_hidden, batch_first =True, bidirectional=True)\n",
    "        self.linear = nn.Linear(2*n_hidden,n_class)\n",
    "\n",
    "    def forward(self, x):\n",
    "        x, h_n = self.rnn(x)\n",
    "        # concat the last hidden state from two direction\n",
    "        hidden_out = torch.cat((h_n[0,:,:],h_n[1,:,:]),1)\n",
    "        output = self.linear(hidden_out)\n",
    "        return output"
   ]
  },
  {
   "cell_type": "markdown",
   "metadata": {
    "id": "_6tvdjqfJ7Kc"
   },
   "source": [
    "### RNN Variant 1 - Implementation\n",
    "\n",
    "*  Embedding the Aspect as the last word of the sentence, the word embedding dimension remains. Below implementation using the embedded input prepared in Section 1.6, option 1.\n",
    "\n",
    "* (seq_length = padded max length+1 , n_input = word embedding dimension)\n",
    "\n"
   ]
  },
  {
   "cell_type": "code",
   "execution_count": 86,
   "metadata": {
    "id": "V9SpNWWEQaFg"
   },
   "outputs": [],
   "source": [
    "seq_length = sen_aspect_embeddings_np.shape[1]\n",
    "n_input = sen_aspect_embeddings_np.shape[2]\n",
    "n_class = 3\n",
    "# n_hidden = 64\n",
    "n_hidden = 128\n",
    "batch_size = 128\n",
    "total_epoch = 30\n",
    "learning_rate = 1e-3\n",
    "model_rnn = Bi_RNN_Model(n_input).to(device)\n",
    "criterion = nn.CrossEntropyLoss()\n",
    "optimizer = optim.Adam(model_rnn.parameters(), lr=learning_rate)\n",
    "#optimizer = optim.SGD(model_rnn.parameters(), lr=learning_rate)"
   ]
  },
  {
   "cell_type": "code",
   "execution_count": 87,
   "metadata": {
    "colab": {
     "base_uri": "https://localhost:8080/"
    },
    "id": "Y2m9_4_mKoxT",
    "outputId": "56eb18c9-1b3d-4d65-d3bc-9976602e6161"
   },
   "outputs": [
    {
     "data": {
      "text/plain": [
       "46"
      ]
     },
     "execution_count": 87,
     "metadata": {},
     "output_type": "execute_result"
    }
   ],
   "source": [
    "seq_length"
   ]
  },
  {
   "cell_type": "code",
   "execution_count": 88,
   "metadata": {
    "colab": {
     "base_uri": "https://localhost:8080/"
    },
    "id": "a8rkURVOKjIG",
    "outputId": "7bb4a083-9109-4cff-ae17-0fa2fa1feff1"
   },
   "outputs": [
    {
     "data": {
      "text/plain": [
       "300"
      ]
     },
     "execution_count": 88,
     "metadata": {},
     "output_type": "execute_result"
    }
   ],
   "source": [
    "n_input"
   ]
  },
  {
   "cell_type": "code",
   "execution_count": 89,
   "metadata": {
    "colab": {
     "base_uri": "https://localhost:8080/"
    },
    "id": "mqJLti5PKN5W",
    "outputId": "1fecdb07-8ba9-40cf-8170-925d97339f6b"
   },
   "outputs": [
    {
     "name": "stdout",
     "output_type": "stream",
     "text": [
      "Epoch: 1, train loss: 57.27749\n",
      "Epoch: 2, train loss: 52.62356\n",
      "Epoch: 3, train loss: 51.69322\n",
      "Epoch: 4, train loss: 50.31592\n",
      "Epoch: 5, train loss: 48.96788\n",
      "Epoch: 6, train loss: 48.33702\n",
      "Epoch: 7, train loss: 47.27647\n",
      "Epoch: 8, train loss: 46.49204\n",
      "Epoch: 9, train loss: 46.44795\n",
      "Epoch: 10, train loss: 45.40120\n",
      "Epoch: 11, train loss: 44.88826\n",
      "Epoch: 12, train loss: 44.48521\n",
      "Epoch: 13, train loss: 42.95319\n",
      "Epoch: 14, train loss: 42.96368\n",
      "Epoch: 15, train loss: 42.30096\n",
      "Epoch: 16, train loss: 42.64203\n",
      "Epoch: 17, train loss: 42.66129\n",
      "Epoch: 18, train loss: 42.05602\n",
      "Epoch: 19, train loss: 43.55143\n",
      "Epoch: 20, train loss: 42.03734\n",
      "Epoch: 21, train loss: 40.57836\n",
      "Epoch: 22, train loss: 40.11512\n",
      "Epoch: 23, train loss: 39.68861\n",
      "Epoch: 24, train loss: 40.08600\n",
      "Epoch: 25, train loss: 40.05961\n",
      "Epoch: 26, train loss: 39.43521\n",
      "Epoch: 27, train loss: 38.68439\n",
      "Epoch: 28, train loss: 38.78569\n",
      "Epoch: 29, train loss: 37.64209\n",
      "Epoch: 30, train loss: 36.97228\n",
      "Finished Training\n"
     ]
    }
   ],
   "source": [
    "# Training the model\n",
    "for epoch in range(total_epoch):\n",
    "    train_loss = 0\n",
    "    for ind in range(0,sen_aspect_embeddings_np.shape[0],batch_size):\n",
    "        input_batch = sen_aspect_embeddings_np[ind:min(ind+batch_size, sen_aspect_embeddings_np.shape[0])]\n",
    "        target_batch = label_combine[ind:min(ind+batch_size, label_combine.shape[0])]\n",
    "        input_batch_torch = torch.from_numpy(input_batch).float().to(device)\n",
    "        target_batch_torch = torch.from_numpy(target_batch).view(-1).to(device)\n",
    "\n",
    "        model_rnn.train()\n",
    "        optimizer.zero_grad()\n",
    "        outputs = model_rnn(input_batch_torch)\n",
    "        loss = criterion(outputs, target_batch_torch)\n",
    "        loss.backward()\n",
    "        optimizer.step()\n",
    "\n",
    "        train_loss += loss.item()\n",
    "\n",
    "    print('Epoch: %d, train loss: %.5f'%(epoch + 1, train_loss))\n",
    "    #print('Epoch: %d, training loss: %.4f'%(epoch+1,train_loss/sen_aspect_embeddings_np.shape[0]))\n",
    "\n",
    "print('Finished Training')\n",
    "\n"
   ]
  },
  {
   "cell_type": "markdown",
   "metadata": {
    "id": "nrXR4PrfqMhB"
   },
   "source": [
    "### RNN Variant 1 - Evaluation"
   ]
  },
  {
   "cell_type": "code",
   "execution_count": 90,
   "metadata": {
    "colab": {
     "base_uri": "https://localhost:8080/"
    },
    "id": "6vbeJicZqSMJ",
    "outputId": "217caa40-5263-48ca-c803-d1e8a02b581b"
   },
   "outputs": [
    {
     "name": "stdout",
     "output_type": "stream",
     "text": [
      "              precision    recall  f1-score   support\n",
      "\n",
      "    negative     0.6129    0.5779    0.5949       263\n",
      "     neutral     0.6409    0.8219    0.7202       393\n",
      "    positive     0.5101    0.3102    0.3858       245\n",
      "\n",
      "    accuracy                         0.6115       901\n",
      "   macro avg     0.5879    0.5700    0.5670       901\n",
      "weighted avg     0.5971    0.6115    0.5927       901\n",
      "\n"
     ]
    }
   ],
   "source": [
    "model_rnn.eval()\n",
    "outputs = model_rnn(torch.from_numpy(test_aspect_embeddings_np).float().to(device))\n",
    "predicted = torch.argmax(outputs, 1)\n",
    "\n",
    "\n",
    "print(classification_report([polarity[i] for i in test_label], [polarity[i] for i in predicted.cpu().numpy()], digits=4))"
   ]
  },
  {
   "cell_type": "markdown",
   "metadata": {
    "id": "JoW9ql2wKdcP"
   },
   "source": [
    "### RNN Variant 2 - Implementation\n",
    "\n",
    "* Embedding the Aspect into every word of the sentence, the word embedding dimension doubles. Below implementation using the embedded input prepared in Section 1.6, option 2.\n",
    "\n",
    "* (seq_length = padded max length , n_input = word embedding dimension * 2 )"
   ]
  },
  {
   "cell_type": "code",
   "execution_count": 96,
   "metadata": {
    "id": "bG4XgLQFFddd"
   },
   "outputs": [],
   "source": [
    "seq_length = sen_aspect_embeddings_np_2.shape[1]\n",
    "n_input = sen_aspect_embeddings_np_2.shape[2]\n",
    "n_class = 3\n",
    "# n_hidden = 64\n",
    "n_hidden = 128\n",
    "batch_size = 128\n",
    "total_epoch = 30\n",
    "learning_rate = 1e-3\n",
    "model_rnn_2 = Bi_RNN_Model(n_input).to(device)\n",
    "criterion = nn.CrossEntropyLoss()\n",
    "optimizer = optim.Adam(model_rnn_2.parameters(), lr=learning_rate)"
   ]
  },
  {
   "cell_type": "code",
   "execution_count": 97,
   "metadata": {
    "colab": {
     "base_uri": "https://localhost:8080/"
    },
    "id": "UNz5waCZIpy9",
    "outputId": "fc7e2374-61a6-431c-cec2-94b3d018f900"
   },
   "outputs": [
    {
     "data": {
      "text/plain": [
       "600"
      ]
     },
     "execution_count": 97,
     "metadata": {},
     "output_type": "execute_result"
    }
   ],
   "source": [
    "n_input #we can see here the dimension has been double for each word representations, as expected."
   ]
  },
  {
   "cell_type": "code",
   "execution_count": 98,
   "metadata": {
    "colab": {
     "base_uri": "https://localhost:8080/"
    },
    "id": "BFAZVbBSIsUk",
    "outputId": "94b7b35a-8196-41a7-c37d-fa7bcc15bbc9"
   },
   "outputs": [
    {
     "data": {
      "text/plain": [
       "45"
      ]
     },
     "execution_count": 98,
     "metadata": {},
     "output_type": "execute_result"
    }
   ],
   "source": [
    "seq_length"
   ]
  },
  {
   "cell_type": "code",
   "execution_count": 99,
   "metadata": {
    "colab": {
     "base_uri": "https://localhost:8080/"
    },
    "id": "ropfiIaJGHXC",
    "outputId": "b7e702ac-ba9b-432d-e112-be6f4bb2301d"
   },
   "outputs": [
    {
     "name": "stdout",
     "output_type": "stream",
     "text": [
      "Epoch: 1, train loss: 57.70947\n",
      "Epoch: 2, train loss: 54.49134\n",
      "Epoch: 3, train loss: 53.18617\n",
      "Epoch: 4, train loss: 51.77154\n",
      "Epoch: 5, train loss: 50.53556\n",
      "Epoch: 6, train loss: 49.44891\n",
      "Epoch: 7, train loss: 47.75406\n",
      "Epoch: 8, train loss: 46.17438\n",
      "Epoch: 9, train loss: 44.95851\n",
      "Epoch: 10, train loss: 43.82511\n",
      "Epoch: 11, train loss: 44.12740\n",
      "Epoch: 12, train loss: 42.12937\n",
      "Epoch: 13, train loss: 40.52851\n",
      "Epoch: 14, train loss: 39.30823\n",
      "Epoch: 15, train loss: 37.52123\n",
      "Epoch: 16, train loss: 39.65399\n",
      "Epoch: 17, train loss: 39.42444\n",
      "Epoch: 18, train loss: 34.82979\n",
      "Epoch: 19, train loss: 32.04595\n",
      "Epoch: 20, train loss: 31.20806\n",
      "Epoch: 21, train loss: 29.87857\n",
      "Epoch: 22, train loss: 34.85183\n",
      "Epoch: 23, train loss: 29.86812\n",
      "Epoch: 24, train loss: 25.92511\n",
      "Epoch: 25, train loss: 25.47134\n",
      "Epoch: 26, train loss: 25.86943\n",
      "Epoch: 27, train loss: 24.19288\n",
      "Epoch: 28, train loss: 26.14119\n",
      "Epoch: 29, train loss: 22.26680\n",
      "Epoch: 30, train loss: 20.37719\n",
      "Finished Training\n"
     ]
    }
   ],
   "source": [
    "for epoch in range(total_epoch):\n",
    "    train_loss = 0\n",
    "    for ind in range(0,sen_aspect_embeddings_np_2.shape[0],batch_size):\n",
    "        input_batch = sen_aspect_embeddings_np_2[ind:min(ind+batch_size, sen_aspect_embeddings_np_2.shape[0])]\n",
    "        target_batch = label_combine[ind:min(ind+batch_size, label_combine.shape[0])]\n",
    "        input_batch_torch = torch.from_numpy(input_batch).float().to(device)\n",
    "        target_batch_torch = torch.from_numpy(target_batch).view(-1).to(device)\n",
    "\n",
    "        model_rnn_2.train()\n",
    "        optimizer.zero_grad()\n",
    "        outputs = model_rnn_2(input_batch_torch)\n",
    "        loss = criterion(outputs, target_batch_torch)\n",
    "        loss.backward()\n",
    "        optimizer.step()\n",
    "\n",
    "        train_loss += loss.item()\n",
    "\n",
    "    print('Epoch: %d, train loss: %.5f'%(epoch + 1, train_loss))\n",
    "    #print('Epoch: %d, training loss: %.4f'%(epoch+1,train_loss/sen_aspect_embeddings_np.shape[0]))\n",
    "\n",
    "print('Finished Training')"
   ]
  },
  {
   "cell_type": "markdown",
   "metadata": {
    "id": "z1SWOkgmqnO-"
   },
   "source": [
    "### RNN Variant 2 - Evaluation"
   ]
  },
  {
   "cell_type": "code",
   "execution_count": 100,
   "metadata": {
    "colab": {
     "base_uri": "https://localhost:8080/"
    },
    "id": "uY4ywytOqqF-",
    "outputId": "07524d25-2428-425e-9dca-2cbec787f116"
   },
   "outputs": [
    {
     "name": "stdout",
     "output_type": "stream",
     "text": [
      "              precision    recall  f1-score   support\n",
      "\n",
      "    negative     0.4962    0.5019    0.4991       263\n",
      "     neutral     0.6826    0.6896    0.6861       393\n",
      "    positive     0.4118    0.4000    0.4058       245\n",
      "\n",
      "    accuracy                         0.5560       901\n",
      "   macro avg     0.5302    0.5305    0.5303       901\n",
      "weighted avg     0.5546    0.5560    0.5553       901\n",
      "\n"
     ]
    }
   ],
   "source": [
    "model_rnn_2.eval()\n",
    "outputs = model_rnn_2(torch.from_numpy(test_aspect_embeddings_np_2).float().to(device))\n",
    "predicted = torch.argmax(outputs, 1)\n",
    "\n",
    "print(classification_report([polarity[i] for i in test_label], [polarity[i] for i in predicted.cpu().numpy()], digits=4))"
   ]
  },
  {
   "cell_type": "markdown",
   "metadata": {
    "id": "oQQZjEtwK7jM"
   },
   "source": [
    "## 2.2 LSTM Model\n",
    "- Here we batch processing the data\n",
    "- Process word and aspect embedding into model class, rather than using the prepared sentence embedding like in 2.1 RNN models.\n",
    "- Here the aspect embedded into sentence as the last word, same with section 1.6, option 1."
   ]
  },
  {
   "cell_type": "markdown",
   "metadata": {
    "id": "z4Iy1WpmCqKU"
   },
   "source": [
    "### LSTM Model - Implementation"
   ]
  },
  {
   "cell_type": "code",
   "execution_count": 78,
   "metadata": {
    "id": "IvjcACM4wIW6"
   },
   "outputs": [],
   "source": [
    "class LSTM_ABSA(nn.Module):\n",
    "    def __init__(self, embedding_dim, hidden_dim, vocab_size, n_class, dropout = 0.4):\n",
    "        super(LSTM_ABSA, self).__init__()\n",
    "        self.word_embeddings = nn.Embedding(vocab_size, embedding_dim)\n",
    "        self.word_embeddings.weight.data.copy_(torch.from_numpy(emb_table))\n",
    "        self.word_embeddings.weight.requires_grad = False\n",
    "        self.lstm = nn.LSTM(embedding_dim, hidden_dim, batch_first=True, bidirectional=True) #torch.nn.LSTM(self, input_size (NUMBER OF FEATURES, HERE IS THE EMBEDDING SIZE), hidden_size, num_layers=1, bias=True, batch_first=False, dropout=0.0, bidirectional=False, proj_size=0, device=None, dtype=None)\n",
    "        self.dropout = nn.Dropout(dropout)  # Add dropout layer\n",
    "        self.hidden2class = nn.Linear(hidden_dim * 2, n_class)  #torch.nn.Linear(in_features, out_features, bias=True, device=None, dtype=None)\n",
    "\n",
    "    def forward(self, sentence, aspect):\n",
    "        sentence_embeddings = self.word_embeddings(sentence)\n",
    "        aspect_embeddings = self.word_embeddings(aspect)\n",
    "        embeds = torch.cat((sentence_embeddings, aspect_embeddings), dim=1)\n",
    "        _, (h_n, c_n) = self.lstm(embeds)\n",
    "        h_n = self.dropout(h_n)\n",
    "        hidden_out = torch.cat((h_n[0,:,:],h_n[1,:,:]),1)\n",
    "        class_space = self.hidden2class(hidden_out)\n",
    "        return class_space"
   ]
  },
  {
   "cell_type": "code",
   "execution_count": 79,
   "metadata": {
    "id": "IqSTdQlcaHwF"
   },
   "outputs": [],
   "source": [
    "train_data = TensorDataset(torch.from_numpy(t_combine_sentence_encoded_pad), torch.from_numpy(aspect_combine), torch.from_numpy(label_combine))"
   ]
  },
  {
   "cell_type": "code",
   "execution_count": 80,
   "metadata": {
    "colab": {
     "base_uri": "https://localhost:8080/"
    },
    "id": "UbTloVC4bAaL",
    "outputId": "18660bc7-b679-43e0-f7a5-4c7b1e1465d8"
   },
   "outputs": [
    {
     "data": {
      "text/plain": [
       "(tensor([10, 11, 12, 13, 14, 15, 16,  3, 17, 18, 19, 20, 13, 21, 22, 23, 24, 25,\n",
       "         26, 27, 13, 28, 29, 30, 31, 13, 32, 10, 33, 12, 34, 13,  6, 35, 24,  0,\n",
       "          0,  0,  0,  0,  0,  0,  0,  0,  0]),\n",
       " tensor([3]),\n",
       " tensor(0))"
      ]
     },
     "execution_count": 80,
     "metadata": {},
     "output_type": "execute_result"
    }
   ],
   "source": [
    "train_data[0]"
   ]
  },
  {
   "cell_type": "code",
   "execution_count": 81,
   "metadata": {
    "colab": {
     "base_uri": "https://localhost:8080/"
    },
    "id": "lULV3Ip9SpxK",
    "outputId": "0f501ba1-e3da-48c3-b8ea-70ba2f328578"
   },
   "outputs": [
    {
     "data": {
      "text/plain": [
       "300"
      ]
     },
     "execution_count": 81,
     "metadata": {},
     "output_type": "execute_result"
    }
   ],
   "source": [
    "embedding_dim = emb_table.shape[-1]\n",
    "hidden_dim = 128\n",
    "n_class = 3\n",
    "batch_size = 128\n",
    "number_epochs = 30\n",
    "train_loader = DataLoader(dataset=train_data, batch_size=batch_size, shuffle=True)\n",
    "learning_rate= 0.001\n",
    "embedding_dim"
   ]
  },
  {
   "cell_type": "markdown",
   "metadata": {
    "id": "8SvtetW5NrIQ"
   },
   "source": [
    "Declare model, set up loss function and optimizer for training."
   ]
  },
  {
   "cell_type": "code",
   "execution_count": 82,
   "metadata": {
    "id": "ntTNDroDwIUX"
   },
   "outputs": [],
   "source": [
    "model_lstm = LSTM_ABSA(embedding_dim, hidden_dim, len(word2idx), n_class).to(device)\n",
    "loss_function = nn.CrossEntropyLoss()\n",
    "optimizer = torch.optim.Adam(model_lstm.parameters(), lr=learning_rate)"
   ]
  },
  {
   "cell_type": "code",
   "execution_count": 83,
   "metadata": {
    "colab": {
     "base_uri": "https://localhost:8080/"
    },
    "id": "IUUVRhKVwIOn",
    "outputId": "d9d76736-5386-4457-b322-3a8d004ce29a"
   },
   "outputs": [
    {
     "name": "stdout",
     "output_type": "stream",
     "text": [
      "Epoch: 1, training loss: 0.9433, training accuracy: 55.85%\n",
      "Epoch: 2, training loss: 0.8482, training accuracy: 62.42%\n",
      "Epoch: 3, training loss: 0.8091, training accuracy: 64.58%\n",
      "Epoch: 4, training loss: 0.8114, training accuracy: 63.36%\n",
      "Epoch: 5, training loss: 0.7771, training accuracy: 65.93%\n",
      "Epoch: 6, training loss: 0.7655, training accuracy: 66.43%\n",
      "Epoch: 7, training loss: 0.7638, training accuracy: 65.96%\n",
      "Epoch: 8, training loss: 0.7454, training accuracy: 67.16%\n",
      "Epoch: 9, training loss: 0.7435, training accuracy: 67.41%\n",
      "Epoch: 10, training loss: 0.7431, training accuracy: 67.42%\n",
      "Epoch: 11, training loss: 0.7343, training accuracy: 67.81%\n",
      "Epoch: 12, training loss: 0.7312, training accuracy: 68.02%\n",
      "Epoch: 13, training loss: 0.7201, training accuracy: 68.53%\n",
      "Epoch: 14, training loss: 0.7102, training accuracy: 68.69%\n",
      "Epoch: 15, training loss: 0.7028, training accuracy: 69.05%\n",
      "Epoch: 16, training loss: 0.6958, training accuracy: 69.40%\n",
      "Epoch: 17, training loss: 0.6890, training accuracy: 69.67%\n",
      "Epoch: 18, training loss: 0.6833, training accuracy: 69.70%\n",
      "Epoch: 19, training loss: 0.6789, training accuracy: 70.21%\n",
      "Epoch: 20, training loss: 0.6706, training accuracy: 70.43%\n",
      "Epoch: 21, training loss: 0.6638, training accuracy: 70.96%\n",
      "Epoch: 22, training loss: 0.6513, training accuracy: 70.81%\n",
      "Epoch: 23, training loss: 0.6473, training accuracy: 70.56%\n",
      "Epoch: 24, training loss: 0.6358, training accuracy: 71.41%\n",
      "Epoch: 25, training loss: 0.6298, training accuracy: 71.18%\n",
      "Epoch: 26, training loss: 0.6251, training accuracy: 71.82%\n",
      "Epoch: 27, training loss: 0.6161, training accuracy: 71.65%\n",
      "Epoch: 28, training loss: 0.6094, training accuracy: 72.12%\n",
      "Epoch: 29, training loss: 0.6038, training accuracy: 72.65%\n",
      "Epoch: 30, training loss: 0.6007, training accuracy: 72.50%\n"
     ]
    }
   ],
   "source": [
    "for epoch in range(number_epochs):\n",
    "    loss_now = 0.0\n",
    "    correct = 0\n",
    "    for sentence, aspect, targets in train_loader:\n",
    "        sentence = sentence.to(device)\n",
    "        targets = targets.to(device)\n",
    "        aspect = aspect.to(device)\n",
    "        temp_batch_size = sentence.shape[0]\n",
    "\n",
    "        model_lstm.train()\n",
    "        optimizer.zero_grad()\n",
    "        class_space = model_lstm(sentence, aspect)\n",
    "        loss = loss_function(class_space.view(-1, class_space.shape[-1]), targets.view(-1))\n",
    "        loss.backward()\n",
    "        optimizer.step()\n",
    "\n",
    "        loss_now += loss.item() * temp_batch_size\n",
    "        predicted = torch.argmax(class_space, -1)\n",
    "        correct += accuracy_score(predicted.view(-1).cpu().numpy(),targets.view(-1).cpu().numpy())*temp_batch_size\n",
    "    print('Epoch: %d, training loss: %.4f, training accuracy: %.2f%%'%(epoch+1,loss_now/len(train_data),100*correct/len(train_data)))\n"
   ]
  },
  {
   "cell_type": "markdown",
   "metadata": {
    "id": "ufKMRcBWpZMe"
   },
   "source": [
    "### LSTM Model - Evaluation"
   ]
  },
  {
   "cell_type": "code",
   "execution_count": 84,
   "metadata": {
    "id": "AVWP6AwuwILr"
   },
   "outputs": [],
   "source": [
    "model_lstm.eval()\n",
    "sentence = torch.from_numpy(test_encoded_paded).to(device)\n",
    "aspect = torch.from_numpy(test_aspect).to(device)\n",
    "class_space = model_lstm(sentence,aspect)\n",
    "predicted = torch.argmax(class_space, -1)\n",
    "predicted = predicted.cpu().numpy()"
   ]
  },
  {
   "cell_type": "code",
   "execution_count": 85,
   "metadata": {
    "colab": {
     "base_uri": "https://localhost:8080/"
    },
    "id": "rxXeuyLwrRq5",
    "outputId": "4fa1493d-1fdd-49ce-fa95-6234b27f0e5f"
   },
   "outputs": [
    {
     "name": "stdout",
     "output_type": "stream",
     "text": [
      "              precision    recall  f1-score   support\n",
      "\n",
      "    negative     0.6818    0.5703    0.6211       263\n",
      "     neutral     0.6774    0.8550    0.7559       393\n",
      "    positive     0.5568    0.4204    0.4791       245\n",
      "\n",
      "    accuracy                         0.6537       901\n",
      "   macro avg     0.6387    0.6152    0.6187       901\n",
      "weighted avg     0.6459    0.6537    0.6413       901\n",
      "\n"
     ]
    }
   ],
   "source": [
    "print(classification_report([polarity[i] for i in test_label], [polarity[i] for i in predicted], digits=4))"
   ]
  },
  {
   "cell_type": "markdown",
   "metadata": {
    "id": "Z0h0aifjQrXD"
   },
   "source": [
    "## 2.3 GRU with Attension Machanism"
   ]
  },
  {
   "cell_type": "code",
   "execution_count": 101,
   "metadata": {
    "id": "dDcBWj_Vp8hv"
   },
   "outputs": [],
   "source": [
    "train_data = TensorDataset(torch.from_numpy(t_combine_sentence_encoded_pad), torch.from_numpy(aspect_combine), torch.from_numpy(label_combine))"
   ]
  },
  {
   "cell_type": "code",
   "execution_count": 102,
   "metadata": {
    "id": "1fBxJMuLFmCv"
   },
   "outputs": [],
   "source": [
    "batch_size = 128\n",
    "train_loader = DataLoader(dataset=train_data, batch_size=batch_size, shuffle=True)"
   ]
  },
  {
   "cell_type": "code",
   "execution_count": 307,
   "metadata": {
    "id": "XNqBmsTh4SE6"
   },
   "outputs": [],
   "source": [
    "# validation_data_ = TensorDataset(torch.from_numpy(t_combine_sentence_encoded_pad[-100:]), torch.from_numpy(aspect_combine[-100:]), torch.from_numpy(label_combine[-100:]))"
   ]
  },
  {
   "cell_type": "code",
   "execution_count": 308,
   "metadata": {
    "id": "h0m_Jzyl4qAf"
   },
   "outputs": [],
   "source": [
    "# validation_loader = DataLoader(validation_data_, batch_size=100, shuffle=True)"
   ]
  },
  {
   "cell_type": "markdown",
   "metadata": {
    "id": "3C_H_FHRWRVa"
   },
   "source": [
    "### GRU variant 1 - Implementation\n",
    "\n",
    "In this model design, the aspect word embedding was used directly (after a simple linear layer) for attention machanism, to be multiplied with the output of GRU/LSTM.\n",
    "\n",
    "Then concatanate the attention output vector with liner layer output of asepct word embedding for final classification."
   ]
  },
  {
   "cell_type": "code",
   "execution_count": 103,
   "metadata": {
    "id": "FItxttOtAqAb"
   },
   "outputs": [],
   "source": [
    "class AttentionGRU(nn.Module):\n",
    "    def __init__(self, embedding_dim, hidden_dim, vocab_size, n_class, num_layers,dropout = 0.4):\n",
    "        super(AttentionGRU, self).__init__()\n",
    "        self.word_embeddings = nn.Embedding(vocab_size, embedding_dim)\n",
    "        self.word_embeddings.weight.data.copy_(torch.from_numpy(emb_table))\n",
    "        self.word_embeddings.weight.requires_grad = False\n",
    "        self.gru = nn.LSTM(embedding_dim, hidden_dim, num_layers, batch_first=True)\n",
    "        self.aspect_linear = nn.Linear(embedding_dim, hidden_dim)\n",
    "        self.dropout = nn.Dropout(dropout)\n",
    "        self.hidden2class = nn.Linear(hidden_dim*2, n_class)\n",
    "\n",
    "\n",
    "    def forward(self, sentences, aspects):\n",
    "        # Embedding layer\n",
    "        sentence_embeddings = self.word_embeddings(sentence)\n",
    "        aspect_embeddings = self.word_embeddings(aspect)\n",
    "\n",
    "        # GRU layer for sentence, linear layer for aspect\n",
    "        gru_out, _ = self.gru(sentence_embeddings)\n",
    "        gru_out = self.dropout(gru_out)\n",
    "        aspect_out = self.aspect_linear(aspect_embeddings)\n",
    "\n",
    "        # attention\n",
    "        attn_weights = F.softmax(torch.bmm(gru_out, aspect_out.permute(0, 2, 1)),dim=1)\n",
    "        attn_output = torch.bmm(attn_weights.permute(0, 2, 1), gru_out)\n",
    "        final_output = torch.cat((attn_output, aspect_out), 2)\n",
    "\n",
    "        # Output layer\n",
    "        output = self.hidden2class(final_output)\n",
    "\n",
    "        return output, attn_weights"
   ]
  },
  {
   "cell_type": "code",
   "execution_count": 104,
   "metadata": {
    "id": "VorHqwqGqCuS"
   },
   "outputs": [],
   "source": [
    "# Create the model instance, setting up hyper parameters\n",
    "vocab_size = len(word2idx)\n",
    "embedding_dim = emb_table.shape[-1]\n",
    "hidden_dim = 216\n",
    "n_class = 3\n",
    "num_layers = 2\n",
    "model_GRU_attention = AttentionGRU(embedding_dim, hidden_dim, vocab_size, n_class, num_layers).to(device)\n",
    "loss_function = nn.CrossEntropyLoss()\n",
    "optimizer = optim.Adam(model_GRU_attention.parameters(), lr=0.001)"
   ]
  },
  {
   "cell_type": "code",
   "execution_count": 105,
   "metadata": {
    "colab": {
     "base_uri": "https://localhost:8080/"
    },
    "id": "flb42tTWEbtt",
    "outputId": "4801cba1-f837-42ba-e2eb-27bf7e73ccaf"
   },
   "outputs": [
    {
     "name": "stdout",
     "output_type": "stream",
     "text": [
      "Epoch: 1, training loss: 0.9073, training accuracy: 59.64%\n",
      "Epoch: 2, training loss: 0.8485, training accuracy: 62.65%\n",
      "Epoch: 3, training loss: 0.8203, training accuracy: 63.69%\n",
      "Epoch: 4, training loss: 0.7862, training accuracy: 65.13%\n",
      "Epoch: 5, training loss: 0.7720, training accuracy: 66.56%\n",
      "Epoch: 6, training loss: 0.7408, training accuracy: 68.09%\n",
      "Epoch: 7, training loss: 0.7032, training accuracy: 70.38%\n",
      "Epoch: 8, training loss: 0.6801, training accuracy: 71.53%\n",
      "Epoch: 9, training loss: 0.6407, training accuracy: 73.36%\n",
      "Epoch: 10, training loss: 0.6089, training accuracy: 75.02%\n",
      "Epoch: 11, training loss: 0.5814, training accuracy: 76.77%\n",
      "Epoch: 12, training loss: 0.5416, training accuracy: 78.34%\n",
      "Epoch: 13, training loss: 0.5142, training accuracy: 79.79%\n",
      "Epoch: 14, training loss: 0.4878, training accuracy: 80.62%\n",
      "Epoch: 15, training loss: 0.4500, training accuracy: 82.24%\n",
      "Epoch: 16, training loss: 0.4221, training accuracy: 83.69%\n",
      "Epoch: 17, training loss: 0.3979, training accuracy: 84.88%\n",
      "Epoch: 18, training loss: 0.3701, training accuracy: 85.82%\n",
      "Epoch: 19, training loss: 0.3352, training accuracy: 87.34%\n",
      "Epoch: 20, training loss: 0.3182, training accuracy: 87.84%\n"
     ]
    }
   ],
   "source": [
    "number_epochs = 20\n",
    "\n",
    "for epoch in range(number_epochs):\n",
    "    loss_now = 0.0\n",
    "    correct = 0\n",
    "    for sentence, aspect, targets in train_loader:\n",
    "        sentence = sentence.to(device)\n",
    "        targets = targets.to(device)\n",
    "        aspect = aspect.to(device)\n",
    "        temp_batch_size = sentence.shape[0]\n",
    "        model_GRU_attention.train()\n",
    "        optimizer.zero_grad()\n",
    "        class_space, _ = model_GRU_attention(sentence, aspect)\n",
    "        loss = loss_function(class_space.view(-1, class_space.shape[-1]), targets.view(-1))\n",
    "        loss.backward()\n",
    "        optimizer.step()\n",
    "        loss_now += loss.item() * temp_batch_size\n",
    "        predicted = torch.argmax(class_space, -1)\n",
    "        correct += accuracy_score(predicted.view(-1).cpu().numpy(),targets.view(-1).cpu().numpy())*temp_batch_size\n",
    "    print('Epoch: %d, training loss: %.4f, training accuracy: %.2f%%'%(epoch+1,loss_now/len(train_data),100*correct/len(train_data)))\n"
   ]
  },
  {
   "cell_type": "markdown",
   "metadata": {
    "id": "fS36Vq9creEh"
   },
   "source": [
    "### GRU variant 1 - Evaluation"
   ]
  },
  {
   "cell_type": "code",
   "execution_count": 110,
   "metadata": {
    "colab": {
     "base_uri": "https://localhost:8080/"
    },
    "id": "ZyIweIRTIWlQ",
    "outputId": "b60f23ac-7178-4b27-80e7-218176010e03"
   },
   "outputs": [
    {
     "name": "stdout",
     "output_type": "stream",
     "text": [
      "              precision    recall  f1-score   support\n",
      "\n",
      "    negative     0.7118    0.7795    0.7441       263\n",
      "     neutral     0.7857    0.7557    0.7704       393\n",
      "    positive     0.6638    0.6367    0.6500       245\n",
      "\n",
      "    accuracy                         0.7303       901\n",
      "   macro avg     0.7204    0.7240    0.7215       901\n",
      "weighted avg     0.7310    0.7303    0.7300       901\n",
      "\n"
     ]
    }
   ],
   "source": [
    "model_GRU_attention.eval()\n",
    "sentence = torch.from_numpy(test_encoded_paded).to(device)\n",
    "aspect = torch.from_numpy(test_aspect).to(device)\n",
    "class_space, attention_weight = model_GRU_attention(sentence,aspect)\n",
    "predicted = torch.argmax(class_space.view(-1, class_space.shape[-1]), -1)\n",
    "predicted = predicted.cpu().numpy()\n",
    "print(classification_report([polarity[i] for i in test_label], [polarity[i] for i in predicted], digits=4))"
   ]
  },
  {
   "cell_type": "markdown",
   "metadata": {
    "id": "Ge_YBiCQWa8b"
   },
   "source": [
    "### GRU variant 2 - Implementation\n",
    "\n",
    "In this model design, Encoder - Decoder model was used, the aspect word embedding and final state of encoder GRU were used as inputs of decoder GRU. Then the decoder GRU ouput will be multiplied with the output of encoder GRU.\n",
    "\n",
    "Then concatanate the attention output vector with decoder output for final classification.\n"
   ]
  },
  {
   "cell_type": "code",
   "execution_count": 133,
   "metadata": {
    "id": "4SbEBBK36PNF"
   },
   "outputs": [],
   "source": [
    "class AttentionGRU_2(nn.Module):\n",
    "    def __init__(self, embedding_dim, hidden_dim, vocab_size, n_class, num_layers,dropout = 0.4):\n",
    "        super(AttentionGRU_2, self).__init__()\n",
    "\n",
    "        self.word_embeddings = nn.Embedding(vocab_size, embedding_dim)\n",
    "        self.word_embeddings.weight.data.copy_(torch.from_numpy(emb_table))\n",
    "        self.word_embeddings.weight.requires_grad = False\n",
    "        self.gru = nn.GRU(embedding_dim, hidden_dim, num_layers, batch_first=True)\n",
    "        self.dropout = nn.Dropout(dropout)\n",
    "        self.gru_aspect = nn.GRU(embedding_dim, hidden_dim, num_layers, batch_first=True)\n",
    "        self.hidden2class = nn.Linear(hidden_dim*2, n_class)\n",
    "\n",
    "\n",
    "    def forward(self, sentences, aspects):\n",
    "        # Embedding layer\n",
    "        sentence_embeddings = self.word_embeddings(sentence)\n",
    "        aspect_embeddings = self.word_embeddings(aspect)\n",
    "\n",
    "        # GRU layer for both sentence and aspect\n",
    "        gru_out, h_n = self.gru(sentence_embeddings)\n",
    "        gru_out_aspect, h_n_aspect = self.gru_aspect(aspect_embeddings,h_n)\n",
    "        gru_out = self.dropout(gru_out)\n",
    "\n",
    "        # attention\n",
    "        attn_weights = F.softmax(torch.bmm(gru_out, gru_out_aspect.permute(0, 2, 1)),dim=1)\n",
    "        attn_output = torch.bmm(attn_weights.permute(0, 2, 1), gru_out)\n",
    "        # concatenate attention output and aspect gru output\n",
    "        final_output = torch.cat((attn_output, gru_out_aspect), 2)\n",
    "\n",
    "\n",
    "        # Output layer\n",
    "        output = self.hidden2class(final_output)\n",
    "\n",
    "        return output,attn_weights"
   ]
  },
  {
   "cell_type": "code",
   "execution_count": 138,
   "metadata": {
    "id": "0QcpJgv8dq8Z"
   },
   "outputs": [],
   "source": [
    "#setting up hyper parameters\n",
    "vocab_size = len(word2idx)\n",
    "embedding_dim = emb_table.shape[-1]\n",
    "hidden_dim = 216\n",
    "n_class = 3\n",
    "num_layers = 2\n",
    "learning_rate = 0.001"
   ]
  },
  {
   "cell_type": "code",
   "execution_count": 139,
   "metadata": {
    "id": "8-dJ_AavuZOH"
   },
   "outputs": [],
   "source": [
    "model_GRU_attention_2 = AttentionGRU_2(embedding_dim, hidden_dim, vocab_size, n_class, num_layers).to(device)\n",
    "loss_function = nn.CrossEntropyLoss()\n",
    "optimizer = optim.Adam(model_GRU_attention_2.parameters(), lr=learning_rate)"
   ]
  },
  {
   "cell_type": "code",
   "execution_count": 140,
   "metadata": {
    "colab": {
     "base_uri": "https://localhost:8080/"
    },
    "id": "mYs51zRFuZEV",
    "outputId": "c95447f8-7218-4ce6-8231-3ee5368e31b8"
   },
   "outputs": [
    {
     "name": "stdout",
     "output_type": "stream",
     "text": [
      "Epoch: 1, training loss: 0.9151, training accuracy: 57.87%\n",
      "Epoch: 2, training loss: 0.8188, training accuracy: 64.03%\n",
      "Epoch: 3, training loss: 0.7661, training accuracy: 66.93%\n",
      "Epoch: 4, training loss: 0.7259, training accuracy: 69.23%\n",
      "Epoch: 5, training loss: 0.6902, training accuracy: 70.78%\n",
      "Epoch: 6, training loss: 0.6472, training accuracy: 72.98%\n",
      "Epoch: 7, training loss: 0.6134, training accuracy: 74.56%\n",
      "Epoch: 8, training loss: 0.5898, training accuracy: 75.67%\n",
      "Epoch: 9, training loss: 0.5516, training accuracy: 77.35%\n",
      "Epoch: 10, training loss: 0.5334, training accuracy: 78.38%\n",
      "Epoch: 11, training loss: 0.4974, training accuracy: 80.11%\n",
      "Epoch: 12, training loss: 0.4593, training accuracy: 82.26%\n",
      "Epoch: 13, training loss: 0.4334, training accuracy: 83.24%\n",
      "Epoch: 14, training loss: 0.3929, training accuracy: 85.27%\n",
      "Epoch: 15, training loss: 0.3637, training accuracy: 86.48%\n",
      "Epoch: 16, training loss: 0.3422, training accuracy: 87.33%\n",
      "Epoch: 17, training loss: 0.3051, training accuracy: 88.64%\n",
      "Epoch: 18, training loss: 0.2921, training accuracy: 89.45%\n",
      "Epoch: 19, training loss: 0.2493, training accuracy: 91.26%\n",
      "Epoch: 20, training loss: 0.2315, training accuracy: 91.81%\n"
     ]
    }
   ],
   "source": [
    "number_epochs = 20\n",
    "\n",
    "for epoch in range(number_epochs):\n",
    "    loss_now = 0.0\n",
    "    correct = 0\n",
    "    for sentence, aspect, targets in train_loader:\n",
    "        sentence = sentence.to(device)\n",
    "        targets = targets.to(device)\n",
    "        aspect = aspect.to(device)\n",
    "        temp_batch_size = sentence.shape[0]\n",
    "        model_GRU_attention_2.train()\n",
    "        optimizer.zero_grad()\n",
    "        class_space, _ = model_GRU_attention_2(sentence, aspect)\n",
    "        loss = loss_function(class_space.view(-1, class_space.shape[-1]), targets.view(-1))\n",
    "        loss.backward()\n",
    "        optimizer.step()\n",
    "        loss_now += loss.item() * temp_batch_size\n",
    "        predicted = torch.argmax(class_space, -1)\n",
    "        correct += accuracy_score(predicted.view(-1).cpu().numpy(),targets.view(-1).cpu().numpy())*temp_batch_size\n",
    "    print('Epoch: %d, training loss: %.4f, training accuracy: %.2f%%'%(epoch+1,loss_now/len(train_data),100*correct/len(train_data)))"
   ]
  },
  {
   "cell_type": "markdown",
   "metadata": {
    "id": "FYeoyZTyr3bG"
   },
   "source": [
    "### GRU variant 2 - Evaluation"
   ]
  },
  {
   "cell_type": "code",
   "execution_count": 141,
   "metadata": {
    "colab": {
     "base_uri": "https://localhost:8080/"
    },
    "id": "0R77AgNG1OFJ",
    "outputId": "e94aee2d-2d53-460d-f3d5-b616b39732c5"
   },
   "outputs": [
    {
     "name": "stdout",
     "output_type": "stream",
     "text": [
      "              precision    recall  f1-score   support\n",
      "\n",
      "    negative     0.7738    0.7414    0.7573       263\n",
      "     neutral     0.7829    0.8168    0.7995       393\n",
      "    positive     0.6862    0.6694    0.6777       245\n",
      "\n",
      "    accuracy                         0.7547       901\n",
      "   macro avg     0.7476    0.7425    0.7448       901\n",
      "weighted avg     0.7540    0.7547    0.7541       901\n",
      "\n"
     ]
    }
   ],
   "source": [
    "model_GRU_attention_2.eval()\n",
    "sentence = torch.from_numpy(test_encoded_paded).to(device)\n",
    "aspect = torch.from_numpy(test_aspect).to(device)\n",
    "class_space,attention_weight_2 = model_GRU_attention_2(sentence,aspect)\n",
    "predicted = torch.argmax(class_space.view(-1, class_space.shape[-1]), -1)\n",
    "predicted = predicted.cpu().numpy()\n",
    "print(classification_report([polarity[i] for i in test_label], [polarity[i] for i in predicted], digits=4))"
   ]
  },
  {
   "cell_type": "markdown",
   "metadata": {
    "id": "IGm99zsGWk6o"
   },
   "source": [
    "### GRU variant 3 - Implementation\n",
    "\n",
    "This is similar to variant 2, except the last step is to concatanate the attention output vector with liner output of aspect word embedding (not GRU output of decoder) for final classification, rather than decoder output.\n"
   ]
  },
  {
   "cell_type": "code",
   "execution_count": 142,
   "metadata": {
    "id": "IVF51_jaR1RN"
   },
   "outputs": [],
   "source": [
    "class AttentionGRU_3(nn.Module):\n",
    "    def __init__(self, embedding_dim, hidden_dim, vocab_size, n_class, num_layers,dropout = 0.5):\n",
    "        super(AttentionGRU_3, self).__init__()\n",
    "\n",
    "        self.word_embeddings = nn.Embedding(vocab_size, embedding_dim)\n",
    "        self.word_embeddings.weight.data.copy_(torch.from_numpy(emb_table))\n",
    "        self.word_embeddings.weight.requires_grad = False\n",
    "        self.gru = nn.GRU(embedding_dim, hidden_dim, num_layers, batch_first=True)\n",
    "        self.gru_aspect = nn.GRU(embedding_dim, hidden_dim, num_layers, batch_first=True)\n",
    "        self.dropout = nn.Dropout(dropout)\n",
    "        self.hidden2class = nn.Linear(hidden_dim*2, n_class)\n",
    "        self.linear_aspect = nn.Linear(embedding_dim, hidden_dim)\n",
    "\n",
    "\n",
    "    def forward(self, sentences, aspects):\n",
    "        # Embedding layer\n",
    "        sentence_embeddings = self.word_embeddings(sentence)\n",
    "        aspect_embeddings = self.word_embeddings(aspect)\n",
    "\n",
    "        # GRU layer for embedding and aspect\n",
    "        gru_out, h_n = self.gru(sentence_embeddings)\n",
    "        gru_out_aspect, h_n_aspect = self.gru_aspect(aspect_embeddings,h_n)\n",
    "        gru_out = self.dropout(gru_out)\n",
    "\n",
    "        # attention\n",
    "        attn_weights = F.softmax(torch.bmm(gru_out, gru_out_aspect.permute(0, 2, 1)),dim=1)\n",
    "        attn_output = torch.bmm(attn_weights.permute(0, 2, 1), gru_out)\n",
    "        # linear layer for aspect, for the same dimension concatenation with attention output\n",
    "        aspect_embeddings = self.linear_aspect(aspect_embeddings)\n",
    "        final_output = torch.cat((attn_output,  aspect_embeddings), 2)\n",
    "\n",
    "\n",
    "        # Output layer\n",
    "        output = self.hidden2class(final_output)\n",
    "\n",
    "        return output,attn_weights\n"
   ]
  },
  {
   "cell_type": "code",
   "execution_count": 143,
   "metadata": {
    "id": "hGiV0o1ZZN-b"
   },
   "outputs": [],
   "source": [
    "vocab_size = len(word2idx)\n",
    "embedding_dim = emb_table.shape[-1]\n",
    "hidden_dim = 216\n",
    "n_class = 3\n",
    "num_layers = 2\n",
    "learning_rate = 0.001"
   ]
  },
  {
   "cell_type": "code",
   "execution_count": 144,
   "metadata": {
    "id": "AgfIVyCAO4Ys"
   },
   "outputs": [],
   "source": [
    "model_GRU_attention_3 = AttentionGRU_3(embedding_dim, hidden_dim, vocab_size, n_class, num_layers).to(device)\n",
    "loss_function = nn.CrossEntropyLoss()\n",
    "optimizer = optim.Adam(model_GRU_attention_3.parameters(), lr=learning_rate)"
   ]
  },
  {
   "cell_type": "code",
   "execution_count": 145,
   "metadata": {
    "colab": {
     "base_uri": "https://localhost:8080/"
    },
    "id": "0UDFDO3EXGfY",
    "outputId": "e0028056-7b06-4943-876b-e411a4ab8a32"
   },
   "outputs": [
    {
     "name": "stdout",
     "output_type": "stream",
     "text": [
      "Epoch: 1, training loss: 0.8994, training accuracy: 60.02%\n",
      "Epoch: 2, training loss: 0.8272, training accuracy: 64.05%\n",
      "Epoch: 3, training loss: 0.7817, training accuracy: 65.83%\n",
      "Epoch: 4, training loss: 0.7508, training accuracy: 66.93%\n",
      "Epoch: 5, training loss: 0.7165, training accuracy: 69.68%\n",
      "Epoch: 6, training loss: 0.6848, training accuracy: 70.76%\n",
      "Epoch: 7, training loss: 0.6549, training accuracy: 72.32%\n",
      "Epoch: 8, training loss: 0.6240, training accuracy: 73.94%\n",
      "Epoch: 9, training loss: 0.6065, training accuracy: 74.91%\n",
      "Epoch: 10, training loss: 0.5865, training accuracy: 75.87%\n",
      "Epoch: 11, training loss: 0.5351, training accuracy: 77.70%\n",
      "Epoch: 12, training loss: 0.4950, training accuracy: 80.57%\n",
      "Epoch: 13, training loss: 0.4731, training accuracy: 80.96%\n",
      "Epoch: 14, training loss: 0.4586, training accuracy: 81.60%\n",
      "Epoch: 15, training loss: 0.4144, training accuracy: 84.03%\n",
      "Epoch: 16, training loss: 0.3901, training accuracy: 84.90%\n",
      "Epoch: 17, training loss: 0.3668, training accuracy: 86.14%\n",
      "Epoch: 18, training loss: 0.3376, training accuracy: 87.64%\n",
      "Epoch: 19, training loss: 0.3172, training accuracy: 87.95%\n",
      "Epoch: 20, training loss: 0.2986, training accuracy: 88.68%\n"
     ]
    }
   ],
   "source": [
    "number_epochs = 20\n",
    "for epoch in range(number_epochs):\n",
    "    loss_now = 0.0\n",
    "    correct = 0\n",
    "    for sentence, aspect, targets in train_loader:\n",
    "        sentence = sentence.to(device)\n",
    "        targets = targets.to(device)\n",
    "        aspect = aspect.to(device)\n",
    "        temp_batch_size = sentence.shape[0]\n",
    "        model_GRU_attention_3.train()\n",
    "        optimizer.zero_grad()\n",
    "        class_space, _ = model_GRU_attention_3(sentence, aspect)\n",
    "        loss = loss_function(class_space.view(-1, class_space.shape[-1]), targets.view(-1))\n",
    "        loss.backward()\n",
    "        optimizer.step()\n",
    "        loss_now += loss.item() * temp_batch_size\n",
    "        predicted = torch.argmax(class_space, -1)\n",
    "        correct += accuracy_score(predicted.view(-1).cpu().numpy(),targets.view(-1).cpu().numpy())*temp_batch_size\n",
    "    print('Epoch: %d, training loss: %.4f, training accuracy: %.2f%%'%(epoch+1,loss_now/len(train_data),100*correct/len(train_data)))"
   ]
  },
  {
   "cell_type": "markdown",
   "metadata": {
    "id": "Z4BnGabJsTLv"
   },
   "source": [
    "### GRU variant 3 - Evaluation"
   ]
  },
  {
   "cell_type": "code",
   "execution_count": 146,
   "metadata": {
    "id": "04d6YHZBXIaU"
   },
   "outputs": [],
   "source": [
    "model_GRU_attention_3.eval()\n",
    "sentence = torch.from_numpy(test_encoded_paded).to(device)\n",
    "aspect = torch.from_numpy(test_aspect).to(device)\n",
    "class_space,attention_weight_3 = model_GRU_attention_3(sentence,aspect)\n",
    "predicted = torch.argmax(class_space.view(-1, class_space.shape[-1]), -1)\n",
    "predicted = predicted.cpu().numpy()"
   ]
  },
  {
   "cell_type": "code",
   "execution_count": 147,
   "metadata": {
    "colab": {
     "base_uri": "https://localhost:8080/"
    },
    "id": "fJNMT9HCXLuz",
    "outputId": "9e70ccdb-5a0d-4277-ef20-c6f672341948"
   },
   "outputs": [
    {
     "name": "stdout",
     "output_type": "stream",
     "text": [
      "              precision    recall  f1-score   support\n",
      "\n",
      "    negative     0.7537    0.7795    0.7664       263\n",
      "     neutral     0.7762    0.8295    0.8020       393\n",
      "    positive     0.7416    0.6327    0.6828       245\n",
      "\n",
      "    accuracy                         0.7614       901\n",
      "   macro avg     0.7572    0.7472    0.7504       901\n",
      "weighted avg     0.7602    0.7614    0.7592       901\n",
      "\n"
     ]
    }
   ],
   "source": [
    "print(classification_report([polarity[i] for i in test_label], [polarity[i] for i in predicted], digits=4))"
   ]
  },
  {
   "cell_type": "markdown",
   "metadata": {
    "id": "BOVAXKdCe7Kp"
   },
   "source": [
    "## 2.4 Code block to save trained models"
   ]
  },
  {
   "cell_type": "code",
   "execution_count": 318,
   "metadata": {
    "id": "wLsdy0HW0wXO"
   },
   "outputs": [],
   "source": [
    "# torch.save(model_rnn, 'model_GRU_TEAT.pt')"
   ]
  },
  {
   "cell_type": "code",
   "execution_count": 126,
   "metadata": {
    "colab": {
     "base_uri": "https://localhost:8080/"
    },
    "id": "TimSuvJVHAtQ",
    "outputId": "99e24057-2e16-414f-8ed4-c74ff19527fd"
   },
   "outputs": [
    {
     "name": "stdout",
     "output_type": "stream",
     "text": [
      "Uploaded file with ID 1UJkUJp9omFSV_jSeAzlvX5jAp6fuhqsK\n"
     ]
    }
   ],
   "source": [
    "# from google.colab import drive\n",
    "# drive.mount('/content/drive')\n",
    "# from pydrive2.auth import GoogleAuth\n",
    "# from pydrive2.drive import GoogleDrive\n",
    "# from google.colab import auth\n",
    "# from oauth2client.client import GoogleCredentials\n",
    "# auth.authenticate_user()\n",
    "# gauth = GoogleAuth()\n",
    "# gauth.credentials = GoogleCredentials.get_application_default()\n",
    "# drive = GoogleDrive(gauth)\n",
    "# uploaded = drive.CreateFile({'title': 'model_GRU_TEAT.pt'})\n",
    "# uploaded.SetContentString('Sample upload file content')\n",
    "# uploaded.Upload()\n",
    "# print('Uploaded file with ID {}'.format(uploaded.get('id')))"
   ]
  },
  {
   "cell_type": "code",
   "execution_count": 118,
   "metadata": {
    "colab": {
     "base_uri": "https://localhost:8080/"
    },
    "id": "5hGz8r-du1yQ",
    "outputId": "cff192dc-d194-4f24-de87-30b4a6aac142"
   },
   "outputs": [
    {
     "name": "stdout",
     "output_type": "stream",
     "text": [
      "Mounted at /content/drive\n"
     ]
    }
   ],
   "source": [
    "# from google.colab import drive\n",
    "# drive.mount('/content/drive')\n",
    "# from pydrive2.auth import GoogleAuth\n",
    "# from pydrive2.drive import GoogleDrive\n",
    "# from google.colab import auth\n",
    "# from oauth2client.client import GoogleCredentials\n",
    "# auth.authenticate_user()\n",
    "# gauth = GoogleAuth()\n",
    "# gauth.credentials = GoogleCredentials.get_application_default()\n",
    "# drive = GoogleDrive(gauth)"
   ]
  },
  {
   "cell_type": "markdown",
   "metadata": {
    "id": "oygrGpGnfJDy"
   },
   "source": [
    "# 3.Testing and Evaluation"
   ]
  },
  {
   "cell_type": "markdown",
   "metadata": {
    "id": "YopU8eBx2vqL"
   },
   "source": [
    "## RNN Model (Variant 1)"
   ]
  },
  {
   "cell_type": "code",
   "execution_count": 106,
   "metadata": {
    "colab": {
     "base_uri": "https://localhost:8080/"
    },
    "id": "WvTmykG-slFY",
    "outputId": "c054316f-6c9b-446a-e7ac-a83c222f5f12"
   },
   "outputs": [
    {
     "name": "stdout",
     "output_type": "stream",
     "text": [
      "              precision    recall  f1-score   support\n",
      "\n",
      "    negative     0.6129    0.5779    0.5949       263\n",
      "     neutral     0.6409    0.8219    0.7202       393\n",
      "    positive     0.5101    0.3102    0.3858       245\n",
      "\n",
      "    accuracy                         0.6115       901\n",
      "   macro avg     0.5879    0.5700    0.5670       901\n",
      "weighted avg     0.5971    0.6115    0.5927       901\n",
      "\n"
     ]
    }
   ],
   "source": [
    "model_rnn.eval()\n",
    "outputs = model_rnn(torch.from_numpy(test_aspect_embeddings_np).float().to(device))\n",
    "predicted = torch.argmax(outputs, 1)\n",
    "print(classification_report([polarity[i] for i in test_label], [polarity[i] for i in predicted.cpu().numpy()], digits=4))"
   ]
  },
  {
   "cell_type": "markdown",
   "metadata": {
    "id": "VpIf-YEw24wm"
   },
   "source": [
    "## RNN Model (Variant 2)"
   ]
  },
  {
   "cell_type": "code",
   "execution_count": 107,
   "metadata": {
    "colab": {
     "base_uri": "https://localhost:8080/"
    },
    "id": "8ycUuozdszbR",
    "outputId": "58687baf-eb93-4453-b95d-bb5b902d4778"
   },
   "outputs": [
    {
     "name": "stdout",
     "output_type": "stream",
     "text": [
      "              precision    recall  f1-score   support\n",
      "\n",
      "    negative     0.4962    0.5019    0.4991       263\n",
      "     neutral     0.6826    0.6896    0.6861       393\n",
      "    positive     0.4118    0.4000    0.4058       245\n",
      "\n",
      "    accuracy                         0.5560       901\n",
      "   macro avg     0.5302    0.5305    0.5303       901\n",
      "weighted avg     0.5546    0.5560    0.5553       901\n",
      "\n"
     ]
    }
   ],
   "source": [
    "model_rnn_2.eval()\n",
    "outputs = model_rnn_2(torch.from_numpy(test_aspect_embeddings_np_2).float().to(device))\n",
    "predicted = torch.argmax(outputs, 1)\n",
    "\n",
    "print(classification_report([polarity[i] for i in test_label], [polarity[i] for i in predicted.cpu().numpy()], digits=4))"
   ]
  },
  {
   "cell_type": "markdown",
   "metadata": {
    "id": "sOo9R_FK2-kw"
   },
   "source": [
    "## LSTM Model"
   ]
  },
  {
   "cell_type": "code",
   "execution_count": 109,
   "metadata": {
    "colab": {
     "base_uri": "https://localhost:8080/"
    },
    "id": "erjkOGlhs-VT",
    "outputId": "44d73885-3983-4792-d347-22c77ffc637a"
   },
   "outputs": [
    {
     "name": "stdout",
     "output_type": "stream",
     "text": [
      "              precision    recall  f1-score   support\n",
      "\n",
      "    negative     0.6818    0.5703    0.6211       263\n",
      "     neutral     0.6774    0.8550    0.7559       393\n",
      "    positive     0.5568    0.4204    0.4791       245\n",
      "\n",
      "    accuracy                         0.6537       901\n",
      "   macro avg     0.6387    0.6152    0.6187       901\n",
      "weighted avg     0.6459    0.6537    0.6413       901\n",
      "\n"
     ]
    }
   ],
   "source": [
    "model_lstm.eval()\n",
    "sentence = torch.from_numpy(test_encoded_paded).to(device)\n",
    "aspect = torch.from_numpy(test_aspect).to(device)\n",
    "class_space = model_lstm(sentence,aspect)\n",
    "predicted = torch.argmax(class_space, -1)\n",
    "predicted = predicted.cpu().numpy()\n",
    "print(classification_report([polarity[i] for i in test_label], [polarity[i] for i in predicted], digits=4))"
   ]
  },
  {
   "cell_type": "markdown",
   "metadata": {
    "id": "JWd1Pjoq3CPG"
   },
   "source": [
    "## GRU Model (attention variant 1)"
   ]
  },
  {
   "cell_type": "code",
   "execution_count": 111,
   "metadata": {
    "colab": {
     "base_uri": "https://localhost:8080/"
    },
    "id": "-Ab3PoITtbSD",
    "outputId": "aceccbf4-ead4-44d8-84ae-f50bf8f1789d"
   },
   "outputs": [
    {
     "name": "stdout",
     "output_type": "stream",
     "text": [
      "              precision    recall  f1-score   support\n",
      "\n",
      "    negative     0.7118    0.7795    0.7441       263\n",
      "     neutral     0.7857    0.7557    0.7704       393\n",
      "    positive     0.6638    0.6367    0.6500       245\n",
      "\n",
      "    accuracy                         0.7303       901\n",
      "   macro avg     0.7204    0.7240    0.7215       901\n",
      "weighted avg     0.7310    0.7303    0.7300       901\n",
      "\n"
     ]
    }
   ],
   "source": [
    "model_GRU_attention.eval()\n",
    "sentence = torch.from_numpy(test_encoded_paded).to(device)\n",
    "aspect = torch.from_numpy(test_aspect).to(device)\n",
    "class_space, attention_weight = model_GRU_attention(sentence,aspect)\n",
    "predicted = torch.argmax(class_space.view(-1, class_space.shape[-1]), -1)\n",
    "predicted = predicted.cpu().numpy()\n",
    "print(classification_report([polarity[i] for i in test_label], [polarity[i] for i in predicted], digits=4))"
   ]
  },
  {
   "cell_type": "markdown",
   "metadata": {
    "id": "jYl_1bDt3I9P"
   },
   "source": [
    "## GRU Model (attention variant 2) - Best Performing Model"
   ]
  },
  {
   "cell_type": "code",
   "execution_count": 316,
   "metadata": {
    "id": "4tQZH2dcu8yH"
   },
   "outputs": [],
   "source": [
    "model_GRU_attention_2.eval()\n",
    "sentence = torch.from_numpy(test_encoded_paded).to(device)\n",
    "aspect = torch.from_numpy(test_aspect).to(device)\n",
    "class_space,attention_weight_2 = model_GRU_attention_2(sentence,aspect)\n",
    "predicted = torch.argmax(class_space.view(-1, class_space.shape[-1]), -1)\n",
    "predicted = predicted.cpu().numpy()"
   ]
  },
  {
   "cell_type": "code",
   "execution_count": 317,
   "metadata": {
    "colab": {
     "base_uri": "https://localhost:8080/"
    },
    "id": "xprBzRB2u8qw",
    "outputId": "bd9ec8c4-3178-4d1e-c8de-b675717920bc"
   },
   "outputs": [
    {
     "name": "stdout",
     "output_type": "stream",
     "text": [
      "              precision    recall  f1-score   support\n",
      "\n",
      "    negative     0.7632    0.7719    0.7675       263\n",
      "     neutral     0.8000    0.8142    0.8071       393\n",
      "    positive     0.7234    0.6939    0.7083       245\n",
      "\n",
      "    accuracy                         0.7691       901\n",
      "   macro avg     0.7622    0.7600    0.7610       901\n",
      "weighted avg     0.7684    0.7691    0.7687       901\n",
      "\n"
     ]
    }
   ],
   "source": [
    "print(classification_report([polarity[i] for i in test_label], [polarity[i] for i in predicted], digits=4))"
   ]
  },
  {
   "cell_type": "markdown",
   "metadata": {
    "id": "jVSjcub53ryh"
   },
   "source": [
    "## GRU Model (attention variant 3) - Second Best Performing Model"
   ]
  },
  {
   "cell_type": "code",
   "execution_count": 148,
   "metadata": {
    "id": "vreO8vX23h_H"
   },
   "outputs": [],
   "source": [
    "model_GRU_attention_3.eval()\n",
    "sentence = torch.from_numpy(test_encoded_paded).to(device)\n",
    "aspect = torch.from_numpy(test_aspect).to(device)\n",
    "class_space,attention_weight_3 = model_GRU_attention_3(sentence,aspect)\n",
    "predicted = torch.argmax(class_space.view(-1, class_space.shape[-1]), -1)\n",
    "predicted = predicted.cpu().numpy()"
   ]
  },
  {
   "cell_type": "code",
   "execution_count": 149,
   "metadata": {
    "colab": {
     "base_uri": "https://localhost:8080/"
    },
    "id": "03WHBfqQ3mPL",
    "outputId": "c1d20af1-9dee-471d-ef16-6b556f7f27c9"
   },
   "outputs": [
    {
     "name": "stdout",
     "output_type": "stream",
     "text": [
      "              precision    recall  f1-score   support\n",
      "\n",
      "    negative     0.7537    0.7795    0.7664       263\n",
      "     neutral     0.7762    0.8295    0.8020       393\n",
      "    positive     0.7416    0.6327    0.6828       245\n",
      "\n",
      "    accuracy                         0.7614       901\n",
      "   macro avg     0.7572    0.7472    0.7504       901\n",
      "weighted avg     0.7602    0.7614    0.7592       901\n",
      "\n"
     ]
    }
   ],
   "source": [
    "print(classification_report([polarity[i] for i in test_label], [polarity[i] for i in predicted], digits=4))"
   ]
  },
  {
   "cell_type": "markdown",
   "metadata": {
    "id": "HK0_Id86woqL"
   },
   "source": [
    "# 4 Visualising attention weights."
   ]
  },
  {
   "cell_type": "code",
   "execution_count": 328,
   "metadata": {
    "id": "OykLmZGc03KX"
   },
   "outputs": [],
   "source": [
    "predicted_pol_ = [polarity[i] for i in predicted]"
   ]
  },
  {
   "cell_type": "code",
   "execution_count": 86,
   "metadata": {
    "colab": {
     "base_uri": "https://localhost:8080/"
    },
    "id": "YNo328f7u8iJ",
    "outputId": "59faea91-f2a8-4bad-c5e8-668de74ba578"
   },
   "outputs": [
    {
     "data": {
      "text/plain": [
       "torch.Size([901, 45, 1])"
      ]
     },
     "execution_count": 86,
     "metadata": {},
     "output_type": "execute_result"
    }
   ],
   "source": [
    "attention_weight_2.size()"
   ]
  },
  {
   "cell_type": "code",
   "execution_count": 285,
   "metadata": {
    "id": "QsBdlY49w8c5"
   },
   "outputs": [],
   "source": [
    "review_test_sent = []\n",
    "for x in test_encoded_paded.tolist():\n",
    "  review_test_sent.append([idx2word[i] for i in x ])"
   ]
  },
  {
   "cell_type": "code",
   "execution_count": 286,
   "metadata": {
    "id": "HGVYrzUtw8Gg"
   },
   "outputs": [],
   "source": [
    "review_test_aspect = []\n",
    "for x in test_aspect.tolist():\n",
    "  review_test_aspect.append( [idx2word[i] for i in x ])"
   ]
  },
  {
   "cell_type": "code",
   "execution_count": 287,
   "metadata": {
    "colab": {
     "base_uri": "https://localhost:8080/"
    },
    "id": "wsROOCANyF54",
    "outputId": "0537db4e-bf81-41e6-bff5-b87e388296cb"
   },
   "outputs": [
    {
     "name": "stdout",
     "output_type": "stream",
     "text": [
      "['place']\n",
      "['food']\n",
      "['food']\n",
      "['service']\n",
      "['staff']\n",
      "['miscellaneous']\n",
      "['food']\n",
      "['miscellaneous']\n",
      "['food']\n",
      "['price']\n"
     ]
    }
   ],
   "source": [
    "for i in review_test_aspect[:10]:\n",
    "  print(i)"
   ]
  },
  {
   "cell_type": "code",
   "execution_count": 389,
   "metadata": {
    "colab": {
     "base_uri": "https://localhost:8080/",
     "height": 382
    },
    "id": "BdmzO86cykEW",
    "outputId": "a3685fe3-8979-47fa-d612-9ca04fbeaf6b"
   },
   "outputs": [
    {
     "data": {
      "image/png": "[encoded data removed]",
      "text/plain": [
       "<Figure size 1500x400 with 2 Axes>"
      ]
     },
     "metadata": {},
     "output_type": "display_data"
    }
   ],
   "source": [
    "fig, axs = plt.subplots(2, 1, figsize=(15, 4))\n",
    "# first, second =  [103,104]\n",
    "#first, second =  [20,21]\n",
    "first, second =  [282,283]\n",
    "data = attention_weight_2.view(-1, attention_weight_2.shape[1])[first].cpu().detach().numpy()\n",
    "# Reshape data into a 2D array with one row and the same number of columns as the length of the list\n",
    "data_array = np.array(data).reshape(1, -1)\n",
    "sns.heatmap(data_array, annot=True, annot_kws={\"size\": 5,'rotation': 90}, cmap=\"YlGnBu\", fmt='g', cbar=False, linewidths=0.5, linecolor='black', ax=axs[0])\n",
    "aspect_string = review_test_aspect[first][0]\n",
    "predict_string = predicted_pol_[first]\n",
    "test_polarity_string = test_polarity[first]\n",
    "axs[0].set_title(' ')\n",
    "axs[0].set_xlabel(f'Aspect: {aspect_string}  |  Predicted Polarity : {predict_string}  |  Actual Polarity : {test_polarity_string}')\n",
    "axs[0].set_ylabel(f'sentence idx: {first}')\n",
    "axs[0].set_xticks(np.arange(len(data)))\n",
    "axs[0].set_xticklabels(labels=review_test_sent[first], fontsize=8, rotation=45)\n",
    "axs[0].set_yticks([])\n",
    "data_2 = attention_weight_2.view(-1, attention_weight_2.shape[1])[second].cpu().detach().numpy()\n",
    "data_array_2 = np.array(data_2).reshape(1, -1)\n",
    "sns.heatmap(data_array_2, annot=True, annot_kws={\"size\": 5,'rotation': 90}, cmap=\"YlGnBu\", fmt='g', cbar=False, linewidths=0.5, linecolor='black', ax=axs[1])\n",
    "aspect_string_2 = review_test_aspect[second][0]\n",
    "predict_string_2 = predicted_pol_[second]\n",
    "test_polarity_string_2 = test_polarity[second]\n",
    "axs[1].set_title(' ')\n",
    "axs[1].set_xlabel(f'Aspect: {aspect_string_2}  |  Predicted Polarity : {predict_string_2}  |  Actual Polarity : {test_polarity_string_2}')\n",
    "axs[1].set_ylabel(f'sentence idx: {second}')\n",
    "axs[1].set_xticks(np.arange(len(data)))\n",
    "axs[1].set_xticklabels(labels=review_test_sent[second], fontsize=8, rotation=45)\n",
    "axs[1].set_yticks([])\n",
    "line = plt.Line2D((.05,.95),(.47,.47), color=\"k\", linewidth=1)\n",
    "fig.add_artist(line)\n",
    "plt.tight_layout()\n",
    "#plt.savefig(\"attention_weights_Hidden_dim_512.png\")\n",
    "plt.show()"
   ]
  },
  {
   "cell_type": "code",
   "execution_count": 481,
   "metadata": {
    "colab": {
     "base_uri": "https://localhost:8080/",
     "height": 17
    },
    "id": "vG0Lu08kN4j-",
    "outputId": "adb7d66f-dcf9-401e-d161-7ceab0aed530"
   },
   "outputs": [
    {
     "data": {
      "application/javascript": [
       "\n",
       "    async function download(id, filename, size) {\n",
       "      if (!google.colab.kernel.accessAllowed) {\n",
       "        return;\n",
       "      }\n",
       "      const div = document.createElement('div');\n",
       "      const label = document.createElement('label');\n",
       "      label.textContent = `Downloading \"${filename}\": `;\n",
       "      div.appendChild(label);\n",
       "      const progress = document.createElement('progress');\n",
       "      progress.max = size;\n",
       "      div.appendChild(progress);\n",
       "      document.body.appendChild(div);\n",
       "\n",
       "      const buffers = [];\n",
       "      let downloaded = 0;\n",
       "\n",
       "      const channel = await google.colab.kernel.comms.open(id);\n",
       "      // Send a message to notify the kernel that we're ready.\n",
       "      channel.send({})\n",
       "\n",
       "      for await (const message of channel.messages) {\n",
       "        // Send a message to notify the kernel that we're ready.\n",
       "        channel.send({})\n",
       "        if (message.buffers) {\n",
       "          for (const buffer of message.buffers) {\n",
       "            buffers.push(buffer);\n",
       "            downloaded += buffer.byteLength;\n",
       "            progress.value = downloaded;\n",
       "          }\n",
       "        }\n",
       "      }\n",
       "      const blob = new Blob(buffers, {type: 'application/binary'});\n",
       "      const a = document.createElement('a');\n",
       "      a.href = window.URL.createObjectURL(blob);\n",
       "      a.download = filename;\n",
       "      div.appendChild(a);\n",
       "      a.click();\n",
       "      div.remove();\n",
       "    }\n",
       "  "
      ],
      "text/plain": [
       "<IPython.core.display.Javascript object>"
      ]
     },
     "metadata": {},
     "output_type": "display_data"
    },
    {
     "data": {
      "application/javascript": [
       "download(\"download_ee581ada-6ea5-4fd1-9865-0fc83a8876e3\", \"attention_weights_Hidden_dim_512.png\", 120825)"
      ],
      "text/plain": [
       "<IPython.core.display.Javascript object>"
      ]
     },
     "metadata": {},
     "output_type": "display_data"
    }
   ],
   "source": [
    "from google.colab import files\n",
    "files.download('attention_weights_Hidden_dim_512.png')"
   ]
  },
  {
   "cell_type": "markdown",
   "metadata": {
    "id": "ielHc6OaD3pm"
   },
   "source": [
    "# 5.Reference\n",
    "\n",
    "Some codes are adapted from the code provided in lab sheet."
   ]
  }
 ],
 "metadata": {
  "colab": {
   "provenance": [],
   "toc_visible": true
  },
  "kernelspec": {
   "display_name": "Python 3 (ipykernel)",
   "language": "python",
   "name": "python3"
  },
  "language_info": {
   "codemirror_mode": {
    "name": "ipython",
    "version": 3
   },
   "file_extension": ".py",
   "mimetype": "text/x-python",
   "name": "python",
   "nbconvert_exporter": "python",
   "pygments_lexer": "ipython3",
   "version": "3.11.8"
  }
 },
 "nbformat": 4,
 "nbformat_minor": 4
}
